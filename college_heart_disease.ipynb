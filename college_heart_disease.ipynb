{
  "cells": [
    {
      "cell_type": "markdown",
      "metadata": {
        "id": "view-in-github",
        "colab_type": "text"
      },
      "source": [
        "<a href=\"https://colab.research.google.com/github/Naveenand/Computer-vision/blob/main/college_heart_disease.ipynb\" target=\"_parent\"><img src=\"https://colab.research.google.com/assets/colab-badge.svg\" alt=\"Open In Colab\"/></a>"
      ]
    },
    {
      "cell_type": "code",
      "execution_count": null,
      "id": "31f38391",
      "metadata": {
        "id": "31f38391"
      },
      "outputs": [],
      "source": [
        "import pandas as pd\n",
        "import seaborn as sns\n",
        "import matplotlib.pyplot as plt\n",
        "import seaborn as sns"
      ]
    },
    {
      "cell_type": "code",
      "execution_count": null,
      "id": "3dfb0479",
      "metadata": {
        "id": "3dfb0479"
      },
      "outputs": [],
      "source": [
        "df = pd.read_csv(r\"C:\\Users\\navee\\Downloads\\cardio_train.csv\", sep = ';')"
      ]
    },
    {
      "cell_type": "code",
      "execution_count": null,
      "id": "e2cda374",
      "metadata": {
        "id": "e2cda374",
        "outputId": "c358fb91-b36c-4bfe-fbd6-84b8fb7dacdd"
      },
      "outputs": [
        {
          "data": {
            "text/plain": [
              "Index(['id', 'age', 'gender', 'height', 'weight', 'ap_hi', 'ap_lo',\n",
              "       'cholesterol', 'gluc', 'smoke', 'alco', 'active', 'cardio'],\n",
              "      dtype='object')"
            ]
          },
          "execution_count": 3,
          "metadata": {},
          "output_type": "execute_result"
        }
      ],
      "source": [
        "df.columns"
      ]
    },
    {
      "cell_type": "code",
      "execution_count": null,
      "id": "7dee7ed0",
      "metadata": {
        "id": "7dee7ed0",
        "outputId": "13d6db0a-04f6-42ae-b2ba-36d2ee8c6074"
      },
      "outputs": [
        {
          "data": {
            "text/html": [
              "<div>\n",
              "<style scoped>\n",
              "    .dataframe tbody tr th:only-of-type {\n",
              "        vertical-align: middle;\n",
              "    }\n",
              "\n",
              "    .dataframe tbody tr th {\n",
              "        vertical-align: top;\n",
              "    }\n",
              "\n",
              "    .dataframe thead th {\n",
              "        text-align: right;\n",
              "    }\n",
              "</style>\n",
              "<table border=\"1\" class=\"dataframe\">\n",
              "  <thead>\n",
              "    <tr style=\"text-align: right;\">\n",
              "      <th></th>\n",
              "      <th>id</th>\n",
              "      <th>age</th>\n",
              "      <th>gender</th>\n",
              "      <th>height</th>\n",
              "      <th>weight</th>\n",
              "      <th>ap_hi</th>\n",
              "      <th>ap_lo</th>\n",
              "      <th>cholesterol</th>\n",
              "      <th>gluc</th>\n",
              "      <th>smoke</th>\n",
              "      <th>alco</th>\n",
              "      <th>active</th>\n",
              "      <th>cardio</th>\n",
              "    </tr>\n",
              "  </thead>\n",
              "  <tbody>\n",
              "    <tr>\n",
              "      <th>0</th>\n",
              "      <td>0</td>\n",
              "      <td>18393</td>\n",
              "      <td>2</td>\n",
              "      <td>168</td>\n",
              "      <td>62.0</td>\n",
              "      <td>110</td>\n",
              "      <td>80</td>\n",
              "      <td>1</td>\n",
              "      <td>1</td>\n",
              "      <td>0</td>\n",
              "      <td>0</td>\n",
              "      <td>1</td>\n",
              "      <td>0</td>\n",
              "    </tr>\n",
              "    <tr>\n",
              "      <th>1</th>\n",
              "      <td>1</td>\n",
              "      <td>20228</td>\n",
              "      <td>1</td>\n",
              "      <td>156</td>\n",
              "      <td>85.0</td>\n",
              "      <td>140</td>\n",
              "      <td>90</td>\n",
              "      <td>3</td>\n",
              "      <td>1</td>\n",
              "      <td>0</td>\n",
              "      <td>0</td>\n",
              "      <td>1</td>\n",
              "      <td>1</td>\n",
              "    </tr>\n",
              "    <tr>\n",
              "      <th>2</th>\n",
              "      <td>2</td>\n",
              "      <td>18857</td>\n",
              "      <td>1</td>\n",
              "      <td>165</td>\n",
              "      <td>64.0</td>\n",
              "      <td>130</td>\n",
              "      <td>70</td>\n",
              "      <td>3</td>\n",
              "      <td>1</td>\n",
              "      <td>0</td>\n",
              "      <td>0</td>\n",
              "      <td>0</td>\n",
              "      <td>1</td>\n",
              "    </tr>\n",
              "    <tr>\n",
              "      <th>3</th>\n",
              "      <td>3</td>\n",
              "      <td>17623</td>\n",
              "      <td>2</td>\n",
              "      <td>169</td>\n",
              "      <td>82.0</td>\n",
              "      <td>150</td>\n",
              "      <td>100</td>\n",
              "      <td>1</td>\n",
              "      <td>1</td>\n",
              "      <td>0</td>\n",
              "      <td>0</td>\n",
              "      <td>1</td>\n",
              "      <td>1</td>\n",
              "    </tr>\n",
              "    <tr>\n",
              "      <th>4</th>\n",
              "      <td>4</td>\n",
              "      <td>17474</td>\n",
              "      <td>1</td>\n",
              "      <td>156</td>\n",
              "      <td>56.0</td>\n",
              "      <td>100</td>\n",
              "      <td>60</td>\n",
              "      <td>1</td>\n",
              "      <td>1</td>\n",
              "      <td>0</td>\n",
              "      <td>0</td>\n",
              "      <td>0</td>\n",
              "      <td>0</td>\n",
              "    </tr>\n",
              "    <tr>\n",
              "      <th>...</th>\n",
              "      <td>...</td>\n",
              "      <td>...</td>\n",
              "      <td>...</td>\n",
              "      <td>...</td>\n",
              "      <td>...</td>\n",
              "      <td>...</td>\n",
              "      <td>...</td>\n",
              "      <td>...</td>\n",
              "      <td>...</td>\n",
              "      <td>...</td>\n",
              "      <td>...</td>\n",
              "      <td>...</td>\n",
              "      <td>...</td>\n",
              "    </tr>\n",
              "    <tr>\n",
              "      <th>69995</th>\n",
              "      <td>99993</td>\n",
              "      <td>19240</td>\n",
              "      <td>2</td>\n",
              "      <td>168</td>\n",
              "      <td>76.0</td>\n",
              "      <td>120</td>\n",
              "      <td>80</td>\n",
              "      <td>1</td>\n",
              "      <td>1</td>\n",
              "      <td>1</td>\n",
              "      <td>0</td>\n",
              "      <td>1</td>\n",
              "      <td>0</td>\n",
              "    </tr>\n",
              "    <tr>\n",
              "      <th>69996</th>\n",
              "      <td>99995</td>\n",
              "      <td>22601</td>\n",
              "      <td>1</td>\n",
              "      <td>158</td>\n",
              "      <td>126.0</td>\n",
              "      <td>140</td>\n",
              "      <td>90</td>\n",
              "      <td>2</td>\n",
              "      <td>2</td>\n",
              "      <td>0</td>\n",
              "      <td>0</td>\n",
              "      <td>1</td>\n",
              "      <td>1</td>\n",
              "    </tr>\n",
              "    <tr>\n",
              "      <th>69997</th>\n",
              "      <td>99996</td>\n",
              "      <td>19066</td>\n",
              "      <td>2</td>\n",
              "      <td>183</td>\n",
              "      <td>105.0</td>\n",
              "      <td>180</td>\n",
              "      <td>90</td>\n",
              "      <td>3</td>\n",
              "      <td>1</td>\n",
              "      <td>0</td>\n",
              "      <td>1</td>\n",
              "      <td>0</td>\n",
              "      <td>1</td>\n",
              "    </tr>\n",
              "    <tr>\n",
              "      <th>69998</th>\n",
              "      <td>99998</td>\n",
              "      <td>22431</td>\n",
              "      <td>1</td>\n",
              "      <td>163</td>\n",
              "      <td>72.0</td>\n",
              "      <td>135</td>\n",
              "      <td>80</td>\n",
              "      <td>1</td>\n",
              "      <td>2</td>\n",
              "      <td>0</td>\n",
              "      <td>0</td>\n",
              "      <td>0</td>\n",
              "      <td>1</td>\n",
              "    </tr>\n",
              "    <tr>\n",
              "      <th>69999</th>\n",
              "      <td>99999</td>\n",
              "      <td>20540</td>\n",
              "      <td>1</td>\n",
              "      <td>170</td>\n",
              "      <td>72.0</td>\n",
              "      <td>120</td>\n",
              "      <td>80</td>\n",
              "      <td>2</td>\n",
              "      <td>1</td>\n",
              "      <td>0</td>\n",
              "      <td>0</td>\n",
              "      <td>1</td>\n",
              "      <td>0</td>\n",
              "    </tr>\n",
              "  </tbody>\n",
              "</table>\n",
              "<p>70000 rows × 13 columns</p>\n",
              "</div>"
            ],
            "text/plain": [
              "          id    age  gender  height  weight  ap_hi  ap_lo  cholesterol  gluc  \\\n",
              "0          0  18393       2     168    62.0    110     80            1     1   \n",
              "1          1  20228       1     156    85.0    140     90            3     1   \n",
              "2          2  18857       1     165    64.0    130     70            3     1   \n",
              "3          3  17623       2     169    82.0    150    100            1     1   \n",
              "4          4  17474       1     156    56.0    100     60            1     1   \n",
              "...      ...    ...     ...     ...     ...    ...    ...          ...   ...   \n",
              "69995  99993  19240       2     168    76.0    120     80            1     1   \n",
              "69996  99995  22601       1     158   126.0    140     90            2     2   \n",
              "69997  99996  19066       2     183   105.0    180     90            3     1   \n",
              "69998  99998  22431       1     163    72.0    135     80            1     2   \n",
              "69999  99999  20540       1     170    72.0    120     80            2     1   \n",
              "\n",
              "       smoke  alco  active  cardio  \n",
              "0          0     0       1       0  \n",
              "1          0     0       1       1  \n",
              "2          0     0       0       1  \n",
              "3          0     0       1       1  \n",
              "4          0     0       0       0  \n",
              "...      ...   ...     ...     ...  \n",
              "69995      1     0       1       0  \n",
              "69996      0     0       1       1  \n",
              "69997      0     1       0       1  \n",
              "69998      0     0       0       1  \n",
              "69999      0     0       1       0  \n",
              "\n",
              "[70000 rows x 13 columns]"
            ]
          },
          "execution_count": 4,
          "metadata": {},
          "output_type": "execute_result"
        }
      ],
      "source": [
        "df"
      ]
    },
    {
      "cell_type": "code",
      "execution_count": null,
      "id": "7da56dee",
      "metadata": {
        "id": "7da56dee",
        "outputId": "27d75abd-eaee-4267-e228-f85a1718a2eb"
      },
      "outputs": [
        {
          "data": {
            "text/plain": [
              "id             0\n",
              "age            0\n",
              "gender         0\n",
              "height         0\n",
              "weight         0\n",
              "ap_hi          0\n",
              "ap_lo          0\n",
              "cholesterol    0\n",
              "gluc           0\n",
              "smoke          0\n",
              "alco           0\n",
              "active         0\n",
              "cardio         0\n",
              "dtype: int64"
            ]
          },
          "execution_count": 5,
          "metadata": {},
          "output_type": "execute_result"
        }
      ],
      "source": [
        "df.isnull().sum()"
      ]
    },
    {
      "cell_type": "code",
      "execution_count": null,
      "id": "015df66b",
      "metadata": {
        "id": "015df66b"
      },
      "outputs": [],
      "source": [
        "#Total cholesterol\n",
        "#systolic blood pressure\n",
        "#diastolic blood pressure\n"
      ]
    },
    {
      "cell_type": "code",
      "execution_count": null,
      "id": "20f3cd73",
      "metadata": {
        "scrolled": true,
        "id": "20f3cd73",
        "outputId": "3fba6f7d-8c8d-4991-9b33-8b7aa48212c6"
      },
      "outputs": [
        {
          "data": {
            "image/png": "[encoded data removed]",
            "text/plain": [
              "<Figure size 720x720 with 2 Axes>"
            ]
          },
          "metadata": {
            "needs_background": "light"
          },
          "output_type": "display_data"
        }
      ],
      "source": [
        "plt.figure(figsize = (10,10))\n",
        "sns.heatmap(df.corr(), cmap='RdBu', vmin=-1, vmax=1, annot=True)\n",
        "plt.show()"
      ]
    },
    {
      "cell_type": "code",
      "execution_count": null,
      "id": "5a4838c4",
      "metadata": {
        "id": "5a4838c4"
      },
      "outputs": [],
      "source": [
        "duplicates = df[df.duplicated()]"
      ]
    },
    {
      "cell_type": "code",
      "execution_count": null,
      "id": "5677d576",
      "metadata": {
        "id": "5677d576"
      },
      "outputs": [],
      "source": [
        "ds = df.drop(['id'], axis = 1)"
      ]
    },
    {
      "cell_type": "code",
      "execution_count": null,
      "id": "80a445a7",
      "metadata": {
        "id": "80a445a7",
        "outputId": "8180d92a-6e6e-4644-851f-84f3d0e6360a"
      },
      "outputs": [
        {
          "data": {
            "text/plain": [
              "age            24\n",
              "gender         24\n",
              "height         24\n",
              "weight         24\n",
              "ap_hi          24\n",
              "ap_lo          24\n",
              "cholesterol    24\n",
              "gluc           24\n",
              "smoke          24\n",
              "alco           24\n",
              "active         24\n",
              "cardio         24\n",
              "dtype: int64"
            ]
          },
          "execution_count": 6,
          "metadata": {},
          "output_type": "execute_result"
        }
      ],
      "source": [
        "duplicates = ds[ds.duplicated()]\n",
        "duplicates.count()"
      ]
    },
    {
      "cell_type": "code",
      "execution_count": null,
      "id": "c9f3ffdd",
      "metadata": {
        "id": "c9f3ffdd"
      },
      "outputs": [],
      "source": [
        "ds = ds.drop_duplicates()"
      ]
    },
    {
      "cell_type": "code",
      "execution_count": null,
      "id": "e7c9918c",
      "metadata": {
        "id": "e7c9918c",
        "outputId": "ab6f16cd-7511-4dc7-e876-95b98fd70b0b"
      },
      "outputs": [
        {
          "data": {
            "text/plain": [
              "0    35021\n",
              "1    34979\n",
              "Name: cardio, dtype: int64"
            ]
          },
          "execution_count": 12,
          "metadata": {},
          "output_type": "execute_result"
        }
      ],
      "source": [
        "df['cardio'].value_counts()"
      ]
    },
    {
      "cell_type": "code",
      "execution_count": null,
      "id": "c44ceed3",
      "metadata": {
        "id": "c44ceed3"
      },
      "outputs": [],
      "source": [
        "\n",
        "target_0 = ds[ds['cardio'] == 0]\n",
        "target_1 = ds[ds['cardio'] == 1]\n",
        "\n",
        "# sample 1000 instances from each subset\n",
        "target_0_sampled = target_0.sample(n=20000, random_state=42)\n",
        "target_1_sampled = target_1.sample(n=20000, random_state=42)\n",
        "\n",
        "# concatenate the subsets and shuffle the rows\n",
        "cardio_data = pd.concat([target_0_sampled, target_1_sampled]).sample(frac=1, random_state=42)"
      ]
    },
    {
      "cell_type": "code",
      "execution_count": null,
      "id": "99ba69a0",
      "metadata": {
        "id": "99ba69a0",
        "outputId": "67715206-f239-4acc-c794-186a4fff507a"
      },
      "outputs": [
        {
          "data": {
            "text/html": [
              "<div>\n",
              "<style scoped>\n",
              "    .dataframe tbody tr th:only-of-type {\n",
              "        vertical-align: middle;\n",
              "    }\n",
              "\n",
              "    .dataframe tbody tr th {\n",
              "        vertical-align: top;\n",
              "    }\n",
              "\n",
              "    .dataframe thead th {\n",
              "        text-align: right;\n",
              "    }\n",
              "</style>\n",
              "<table border=\"1\" class=\"dataframe\">\n",
              "  <thead>\n",
              "    <tr style=\"text-align: right;\">\n",
              "      <th></th>\n",
              "      <th>age</th>\n",
              "      <th>gender</th>\n",
              "      <th>height</th>\n",
              "      <th>weight</th>\n",
              "      <th>ap_hi</th>\n",
              "      <th>ap_lo</th>\n",
              "      <th>cholesterol</th>\n",
              "      <th>gluc</th>\n",
              "      <th>smoke</th>\n",
              "      <th>alco</th>\n",
              "      <th>active</th>\n",
              "      <th>cardio</th>\n",
              "    </tr>\n",
              "  </thead>\n",
              "  <tbody>\n",
              "    <tr>\n",
              "      <th>35166</th>\n",
              "      <td>20644</td>\n",
              "      <td>1</td>\n",
              "      <td>150</td>\n",
              "      <td>80.0</td>\n",
              "      <td>150</td>\n",
              "      <td>80</td>\n",
              "      <td>1</td>\n",
              "      <td>3</td>\n",
              "      <td>0</td>\n",
              "      <td>0</td>\n",
              "      <td>1</td>\n",
              "      <td>1</td>\n",
              "    </tr>\n",
              "    <tr>\n",
              "      <th>32089</th>\n",
              "      <td>22824</td>\n",
              "      <td>2</td>\n",
              "      <td>163</td>\n",
              "      <td>66.0</td>\n",
              "      <td>120</td>\n",
              "      <td>80</td>\n",
              "      <td>1</td>\n",
              "      <td>1</td>\n",
              "      <td>0</td>\n",
              "      <td>0</td>\n",
              "      <td>1</td>\n",
              "      <td>0</td>\n",
              "    </tr>\n",
              "    <tr>\n",
              "      <th>31460</th>\n",
              "      <td>21989</td>\n",
              "      <td>1</td>\n",
              "      <td>169</td>\n",
              "      <td>84.0</td>\n",
              "      <td>120</td>\n",
              "      <td>80</td>\n",
              "      <td>1</td>\n",
              "      <td>1</td>\n",
              "      <td>0</td>\n",
              "      <td>0</td>\n",
              "      <td>1</td>\n",
              "      <td>1</td>\n",
              "    </tr>\n",
              "    <tr>\n",
              "      <th>41419</th>\n",
              "      <td>21974</td>\n",
              "      <td>1</td>\n",
              "      <td>156</td>\n",
              "      <td>70.0</td>\n",
              "      <td>135</td>\n",
              "      <td>90</td>\n",
              "      <td>3</td>\n",
              "      <td>1</td>\n",
              "      <td>0</td>\n",
              "      <td>0</td>\n",
              "      <td>1</td>\n",
              "      <td>0</td>\n",
              "    </tr>\n",
              "    <tr>\n",
              "      <th>32218</th>\n",
              "      <td>18476</td>\n",
              "      <td>1</td>\n",
              "      <td>158</td>\n",
              "      <td>58.0</td>\n",
              "      <td>130</td>\n",
              "      <td>90</td>\n",
              "      <td>1</td>\n",
              "      <td>1</td>\n",
              "      <td>0</td>\n",
              "      <td>0</td>\n",
              "      <td>0</td>\n",
              "      <td>1</td>\n",
              "    </tr>\n",
              "    <tr>\n",
              "      <th>...</th>\n",
              "      <td>...</td>\n",
              "      <td>...</td>\n",
              "      <td>...</td>\n",
              "      <td>...</td>\n",
              "      <td>...</td>\n",
              "      <td>...</td>\n",
              "      <td>...</td>\n",
              "      <td>...</td>\n",
              "      <td>...</td>\n",
              "      <td>...</td>\n",
              "      <td>...</td>\n",
              "      <td>...</td>\n",
              "    </tr>\n",
              "    <tr>\n",
              "      <th>42008</th>\n",
              "      <td>21034</td>\n",
              "      <td>1</td>\n",
              "      <td>158</td>\n",
              "      <td>64.0</td>\n",
              "      <td>120</td>\n",
              "      <td>90</td>\n",
              "      <td>1</td>\n",
              "      <td>1</td>\n",
              "      <td>0</td>\n",
              "      <td>0</td>\n",
              "      <td>1</td>\n",
              "      <td>0</td>\n",
              "    </tr>\n",
              "    <tr>\n",
              "      <th>14274</th>\n",
              "      <td>23429</td>\n",
              "      <td>2</td>\n",
              "      <td>176</td>\n",
              "      <td>68.0</td>\n",
              "      <td>130</td>\n",
              "      <td>85</td>\n",
              "      <td>1</td>\n",
              "      <td>1</td>\n",
              "      <td>0</td>\n",
              "      <td>0</td>\n",
              "      <td>1</td>\n",
              "      <td>0</td>\n",
              "    </tr>\n",
              "    <tr>\n",
              "      <th>1878</th>\n",
              "      <td>14871</td>\n",
              "      <td>2</td>\n",
              "      <td>171</td>\n",
              "      <td>78.0</td>\n",
              "      <td>110</td>\n",
              "      <td>80</td>\n",
              "      <td>1</td>\n",
              "      <td>1</td>\n",
              "      <td>0</td>\n",
              "      <td>0</td>\n",
              "      <td>0</td>\n",
              "      <td>1</td>\n",
              "    </tr>\n",
              "    <tr>\n",
              "      <th>47226</th>\n",
              "      <td>20604</td>\n",
              "      <td>2</td>\n",
              "      <td>165</td>\n",
              "      <td>72.0</td>\n",
              "      <td>120</td>\n",
              "      <td>80</td>\n",
              "      <td>1</td>\n",
              "      <td>1</td>\n",
              "      <td>0</td>\n",
              "      <td>0</td>\n",
              "      <td>1</td>\n",
              "      <td>0</td>\n",
              "    </tr>\n",
              "    <tr>\n",
              "      <th>15673</th>\n",
              "      <td>16572</td>\n",
              "      <td>2</td>\n",
              "      <td>172</td>\n",
              "      <td>90.0</td>\n",
              "      <td>120</td>\n",
              "      <td>80</td>\n",
              "      <td>1</td>\n",
              "      <td>2</td>\n",
              "      <td>1</td>\n",
              "      <td>0</td>\n",
              "      <td>1</td>\n",
              "      <td>0</td>\n",
              "    </tr>\n",
              "  </tbody>\n",
              "</table>\n",
              "<p>40000 rows × 12 columns</p>\n",
              "</div>"
            ],
            "text/plain": [
              "         age  gender  height  weight  ap_hi  ap_lo  cholesterol  gluc  smoke  \\\n",
              "35166  20644       1     150    80.0    150     80            1     3      0   \n",
              "32089  22824       2     163    66.0    120     80            1     1      0   \n",
              "31460  21989       1     169    84.0    120     80            1     1      0   \n",
              "41419  21974       1     156    70.0    135     90            3     1      0   \n",
              "32218  18476       1     158    58.0    130     90            1     1      0   \n",
              "...      ...     ...     ...     ...    ...    ...          ...   ...    ...   \n",
              "42008  21034       1     158    64.0    120     90            1     1      0   \n",
              "14274  23429       2     176    68.0    130     85            1     1      0   \n",
              "1878   14871       2     171    78.0    110     80            1     1      0   \n",
              "47226  20604       2     165    72.0    120     80            1     1      0   \n",
              "15673  16572       2     172    90.0    120     80            1     2      1   \n",
              "\n",
              "       alco  active  cardio  \n",
              "35166     0       1       1  \n",
              "32089     0       1       0  \n",
              "31460     0       1       1  \n",
              "41419     0       1       0  \n",
              "32218     0       0       1  \n",
              "...     ...     ...     ...  \n",
              "42008     0       1       0  \n",
              "14274     0       1       0  \n",
              "1878      0       0       1  \n",
              "47226     0       1       0  \n",
              "15673     0       1       0  \n",
              "\n",
              "[40000 rows x 12 columns]"
            ]
          },
          "execution_count": 14,
          "metadata": {},
          "output_type": "execute_result"
        }
      ],
      "source": [
        "cardio_data"
      ]
    },
    {
      "cell_type": "code",
      "execution_count": null,
      "id": "0d078d64",
      "metadata": {
        "id": "0d078d64"
      },
      "outputs": [],
      "source": [
        "age: age of the person (in days)\n",
        "gender: 1 for women, 2 for men\n",
        "height: height of the person (in cm)\n",
        "weight: weight of the person (in kg)\n",
        "ap_hi: systolic blood pressure (mmHg)\n",
        "ap_lo: diastolic blood pressure (mmHg)\n",
        "cholesterol: cholesterol level of the person (1: normal, 2: above normal, 3: well above normal)\n",
        "gluc: glucose level of the person (1: normal, 2: above normal, 3: well above normal)\n",
        "smoke: whether the person smokes or not (0: no, 1: yes)\n",
        "alco: whether the person consumes alcohol or not (0: no, 1: yes)\n",
        "active: whether the person is physically active or not (0: no, 1: yes)\n",
        "cardio: whether the person has cardiovascular disease or not (0: no, 1: yes)"
      ]
    },
    {
      "cell_type": "code",
      "execution_count": null,
      "id": "984dcf0d",
      "metadata": {
        "id": "984dcf0d"
      },
      "outputs": [],
      "source": [
        "# Data Processing\n",
        "import pandas as pd\n",
        "import numpy as np\n",
        "\n",
        "# Modelling\n",
        "from sklearn.ensemble import RandomForestClassifier\n",
        "from sklearn.metrics import accuracy_score, confusion_matrix, precision_score, recall_score, ConfusionMatrixDisplay\n",
        "from sklearn.model_selection import RandomizedSearchCV, train_test_split\n",
        "from scipy.stats import randint\n",
        "\n",
        "# Tree Visualisation\n",
        "from sklearn.tree import export_graphviz\n",
        "from IPython.display import Image\n",
        "#import graphviz"
      ]
    },
    {
      "cell_type": "code",
      "execution_count": null,
      "id": "332a9c56",
      "metadata": {
        "id": "332a9c56"
      },
      "outputs": [],
      "source": [
        "x = ds.drop(['cardio'], axis= 1)\n",
        "y = ds['cardio']"
      ]
    },
    {
      "cell_type": "code",
      "execution_count": null,
      "id": "d0d78417",
      "metadata": {
        "id": "d0d78417",
        "outputId": "b5283d07-3383-4d55-ddc6-675835930045"
      },
      "outputs": [
        {
          "data": {
            "image/png": "[encoded data removed]",
            "text/plain": [
              "<Figure size 432x288 with 1 Axes>"
            ]
          },
          "metadata": {
            "needs_background": "light"
          },
          "output_type": "display_data"
        }
      ],
      "source": [
        "gender_count = ds['gender'].value_counts()\n",
        "plt.bar(['Women', 'Men'], gender_count)\n",
        "plt.title('Gender Distribution')\n",
        "plt.xlabel('Gender')\n",
        "plt.ylabel('Count')\n",
        "plt.show()"
      ]
    },
    {
      "cell_type": "code",
      "execution_count": null,
      "id": "e7e38094",
      "metadata": {
        "id": "e7e38094",
        "outputId": "7073069e-d7b5-4719-c71a-3fc3138c1b5e"
      },
      "outputs": [
        {
          "data": {
            "image/png": "[encoded data removed]",
            "text/plain": [
              "<Figure size 432x288 with 1 Axes>"
            ]
          },
          "metadata": {
            "needs_background": "light"
          },
          "output_type": "display_data"
        }
      ],
      "source": [
        "plt.hist(ds['age']/365, bins=30)\n",
        "plt.title('Age Distribution')\n",
        "plt.xlabel('Age (years)')\n",
        "plt.ylabel('Count')\n",
        "plt.show()"
      ]
    },
    {
      "cell_type": "code",
      "execution_count": null,
      "id": "a14bcc16",
      "metadata": {
        "id": "a14bcc16",
        "outputId": "799df82b-bb62-4703-ea8e-c45ea3e24f1a"
      },
      "outputs": [
        {
          "data": {
            "image/png": "[encoded data removed]",
            "text/plain": [
              "<Figure size 432x288 with 1 Axes>"
            ]
          },
          "metadata": {
            "needs_background": "light"
          },
          "output_type": "display_data"
        }
      ],
      "source": [
        "plt.scatter(ds['height'], ds['weight'])\n",
        "plt.title('Weight vs Height')\n",
        "plt.xlabel('Height (cm)')\n",
        "plt.ylabel('Weight (kg)')\n",
        "plt.show()"
      ]
    },
    {
      "cell_type": "code",
      "execution_count": null,
      "id": "9152c3c1",
      "metadata": {
        "id": "9152c3c1",
        "outputId": "7a7c59b8-4b0b-478e-c823-ba04673a961e"
      },
      "outputs": [
        {
          "data": {
            "text/plain": [
              "<AxesSubplot:xlabel='cardio', ylabel='count'>"
            ]
          },
          "execution_count": 15,
          "metadata": {},
          "output_type": "execute_result"
        },
        {
          "data": {
            "image/png": "[encoded data removed]",
            "text/plain": [
              "<Figure size 432x288 with 1 Axes>"
            ]
          },
          "metadata": {
            "needs_background": "light"
          },
          "output_type": "display_data"
        }
      ],
      "source": [
        "\n",
        "sns.countplot(x='cardio', hue='gender', data=ds)"
      ]
    },
    {
      "cell_type": "code",
      "execution_count": null,
      "id": "6ef0c2df",
      "metadata": {
        "id": "6ef0c2df",
        "outputId": "986130e9-db8f-42e5-f6c0-2ebfc185afca"
      },
      "outputs": [
        {
          "data": {
            "text/plain": [
              "<AxesSubplot:xlabel='ap_hi', ylabel='ap_lo'>"
            ]
          },
          "execution_count": 16,
          "metadata": {},
          "output_type": "execute_result"
        },
        {
          "data": {
            "image/png": "[encoded data removed]",
            "text/plain": [
              "<Figure size 432x288 with 1 Axes>"
            ]
          },
          "metadata": {
            "needs_background": "light"
          },
          "output_type": "display_data"
        }
      ],
      "source": [
        "sns.scatterplot(x='ap_hi', y='ap_lo', hue='cardio', data=ds)"
      ]
    },
    {
      "cell_type": "code",
      "execution_count": null,
      "id": "69e1098d",
      "metadata": {
        "id": "69e1098d",
        "outputId": "99558db7-b7cf-4f52-fe08-f329655e977b"
      },
      "outputs": [
        {
          "data": {
            "text/plain": [
              "<seaborn.axisgrid.FacetGrid at 0x21690b8e640>"
            ]
          },
          "execution_count": 17,
          "metadata": {},
          "output_type": "execute_result"
        },
        {
          "data": {
            "image/png": "[encoded data removed]",
            "text/plain": [
              "<Figure size 403.5x360 with 1 Axes>"
            ]
          },
          "metadata": {
            "needs_background": "light"
          },
          "output_type": "display_data"
        }
      ],
      "source": [
        "sns.displot(x='height', hue='gender', kind='kde', data=ds)"
      ]
    },
    {
      "cell_type": "code",
      "execution_count": null,
      "id": "f2706c7e",
      "metadata": {
        "id": "f2706c7e",
        "outputId": "b65b463c-8521-4c1a-d2f8-d46aef907cf3"
      },
      "outputs": [
        {
          "data": {
            "image/png": "[encoded data removed]",
            "text/plain": [
              "<Figure size 720x720 with 2 Axes>"
            ]
          },
          "metadata": {
            "needs_background": "light"
          },
          "output_type": "display_data"
        }
      ],
      "source": [
        "plt.figure(figsize = (10,10))\n",
        "sns.heatmap(ds.corr(), cmap='coolwarm', annot=True)\n",
        "plt.show()"
      ]
    },
    {
      "cell_type": "code",
      "execution_count": null,
      "id": "21a7bc86",
      "metadata": {
        "id": "21a7bc86",
        "outputId": "ff42f7d9-24cf-45ae-baed-ebf602018bdb"
      },
      "outputs": [
        {
          "data": {
            "image/png": "[encoded data removed]",
            "text/plain": [
              "<Figure size 864x576 with 2 Axes>"
            ]
          },
          "metadata": {
            "needs_background": "light"
          },
          "output_type": "display_data"
        }
      ],
      "source": [
        "# Compute the correlation matrix\n",
        "corr_matrix = ds.corr()\n",
        "\n",
        "# Sort the columns based on their correlation with the target variable\n",
        "target_variable = \"cardio\" # Replace \"cardio\" with the name of your target variable\n",
        "sorted_columns = corr_matrix[target_variable].sort_values(ascending=False).index\n",
        "\n",
        "# Plot the correlation matrix with the columns sorted in horizontal order\n",
        "plt.figure(figsize=(12, 8))\n",
        "sns.heatmap(corr_matrix.loc[sorted_columns, sorted_columns], cmap=\"coolwarm\", annot=True, fmt=\".2f\")\n",
        "plt.title(\"Correlation Matrix (Sorted by Correlation with Target Variable)\")\n",
        "plt.show()"
      ]
    },
    {
      "cell_type": "code",
      "execution_count": null,
      "id": "7a1f0140",
      "metadata": {
        "id": "7a1f0140"
      },
      "outputs": [],
      "source": [
        "X_train, X_test, y_train, y_test = train_test_split(x, y, test_size = 0.20, random_state = 42)"
      ]
    },
    {
      "cell_type": "code",
      "execution_count": null,
      "id": "a0f28021",
      "metadata": {
        "id": "a0f28021",
        "outputId": "bcf05311-a095-4527-c38d-25ba8a823e9a"
      },
      "outputs": [
        {
          "data": {
            "text/plain": [
              "RandomForestClassifier()"
            ]
          },
          "execution_count": 18,
          "metadata": {},
          "output_type": "execute_result"
        }
      ],
      "source": [
        "forest = RandomForestClassifier()\n",
        "forest.fit(X_train, y_train)"
      ]
    },
    {
      "cell_type": "code",
      "execution_count": null,
      "id": "596afae2",
      "metadata": {
        "id": "596afae2"
      },
      "outputs": [],
      "source": [
        "forest_ypred = forest.predict(X_test)"
      ]
    },
    {
      "cell_type": "code",
      "execution_count": null,
      "id": "cab092ec",
      "metadata": {
        "id": "cab092ec",
        "outputId": "5a3a1324-fe25-42cd-d66d-fa8c6e9d56d5"
      },
      "outputs": [
        {
          "name": "stdout",
          "output_type": "stream",
          "text": [
            "Accuracy: 0.7139897113460989\n"
          ]
        }
      ],
      "source": [
        "accuracy = accuracy_score(y_test, forest_ypred)\n",
        "print(\"Accuracy:\", accuracy)"
      ]
    },
    {
      "cell_type": "code",
      "execution_count": null,
      "id": "bb448564",
      "metadata": {
        "id": "bb448564"
      },
      "outputs": [],
      "source": [
        "#param_dist = {'n_estimators': randint(50,500),\n",
        "              #'max_depth': randint(1,20)}\n",
        "\n",
        "# Create a random forest classifier\n",
        "#rf = RandomForestClassifier()\n",
        "\n",
        "# Use random search to find the best hyperparameters\n",
        "#rand_search = RandomizedSearchCV(rf,\n",
        "                                 #param_distributions = param_dist,\n",
        "                                 #n_iter=5,\n",
        "                                 #cv=5)\n",
        "\n",
        "# Fit the random search object to the data\n",
        "#rand_search.fit(X_train, y_train)"
      ]
    },
    {
      "cell_type": "code",
      "execution_count": null,
      "id": "849a6277",
      "metadata": {
        "scrolled": true,
        "id": "849a6277"
      },
      "outputs": [],
      "source": [
        "# Create a variable for the best model\n",
        "#best_rf = rand_search.best_estimator_\n",
        "\n",
        "# Print the best hyperparameters\n",
        "#print('Best hyperparameters:',  rand_search.best_params_)"
      ]
    },
    {
      "cell_type": "code",
      "execution_count": null,
      "id": "2e8406be",
      "metadata": {
        "id": "2e8406be"
      },
      "outputs": [],
      "source": [
        "#ypred = rand_search.predict(X_test)"
      ]
    },
    {
      "cell_type": "code",
      "execution_count": null,
      "id": "38892d3f",
      "metadata": {
        "id": "38892d3f"
      },
      "outputs": [],
      "source": [
        "#accuracy = accuracy_score(y_test, ypred)\n",
        "#print(\"Accuracy:\", accuracy)"
      ]
    },
    {
      "cell_type": "code",
      "execution_count": null,
      "id": "48e6f075",
      "metadata": {
        "id": "48e6f075"
      },
      "outputs": [],
      "source": [
        "from sklearn.linear_model import LogisticRegression\n",
        "from sklearn.neural_network import MLPClassifier\n",
        "from sklearn.neighbors import KNeighborsClassifier\n",
        "from sklearn.svm import SVC\n",
        "from sklearn.ensemble import RandomForestClassifier\n",
        "\n",
        "from sklearn.metrics import classification_report, confusion_matrix, roc_auc_score"
      ]
    },
    {
      "cell_type": "code",
      "execution_count": null,
      "id": "82670a96",
      "metadata": {
        "id": "82670a96",
        "outputId": "5b252abe-589e-4682-cfb2-4f1379ee1f54"
      },
      "outputs": [
        {
          "name": "stdout",
          "output_type": "stream",
          "text": [
            "LogisticRegression()\n",
            "Train performance\n",
            "-------------------------------------------------------\n",
            "              precision    recall  f1-score   support\n",
            "\n",
            "           0       0.68      0.73      0.71     28103\n",
            "           1       0.71      0.66      0.68     27877\n",
            "\n",
            "    accuracy                           0.70     55980\n",
            "   macro avg       0.70      0.70      0.69     55980\n",
            "weighted avg       0.70      0.70      0.69     55980\n",
            "\n",
            "Test performance\n",
            "-------------------------------------------------------\n",
            "              precision    recall  f1-score   support\n",
            "\n",
            "           0       0.67      0.73      0.70      6901\n",
            "           1       0.71      0.65      0.68      7095\n",
            "\n",
            "    accuracy                           0.69     13996\n",
            "   macro avg       0.69      0.69      0.69     13996\n",
            "weighted avg       0.69      0.69      0.69     13996\n",
            "\n"
          ]
        }
      ],
      "source": [
        "model = LogisticRegression()\n",
        "model.fit(X_train, y_train)\n",
        "y_train_hat = model.predict(X_train)\n",
        "y_test_hat = model.predict(X_test)\n",
        "\n",
        "print(model)\n",
        "print('Train performance')\n",
        "print('-------------------------------------------------------')\n",
        "print(classification_report(y_train, y_train_hat))\n",
        "\n",
        "print('Test performance')\n",
        "print('-------------------------------------------------------')\n",
        "print(classification_report(y_test, y_test_hat))"
      ]
    },
    {
      "cell_type": "code",
      "execution_count": null,
      "id": "804fdec7",
      "metadata": {
        "id": "804fdec7",
        "outputId": "088b429d-b8c3-40fa-e837-65aa1789d089"
      },
      "outputs": [
        {
          "name": "stdout",
          "output_type": "stream",
          "text": [
            "SVC()\n",
            "Train performance\n",
            "-------------------------------------------------------\n",
            "              precision    recall  f1-score   support\n",
            "\n",
            "           0       0.60      0.65      0.62     28103\n",
            "           1       0.61      0.56      0.58     27877\n",
            "\n",
            "    accuracy                           0.60     55980\n",
            "   macro avg       0.60      0.60      0.60     55980\n",
            "weighted avg       0.60      0.60      0.60     55980\n",
            "\n",
            "Test performance\n",
            "-------------------------------------------------------\n",
            "              precision    recall  f1-score   support\n",
            "\n",
            "           0       0.59      0.66      0.62      6901\n",
            "           1       0.63      0.56      0.59      7095\n",
            "\n",
            "    accuracy                           0.61     13996\n",
            "   macro avg       0.61      0.61      0.61     13996\n",
            "weighted avg       0.61      0.61      0.61     13996\n",
            "\n"
          ]
        }
      ],
      "source": [
        "model = SVC()\n",
        "model.fit(X_train, y_train)\n",
        "y_train_hat = model.predict(X_train)\n",
        "y_test_hat = model.predict(X_test)\n",
        "\n",
        "print(model)\n",
        "print('Train performance')\n",
        "print('-------------------------------------------------------')\n",
        "print(classification_report(y_train, y_train_hat))\n",
        "\n",
        "print('Test performance')\n",
        "print('-------------------------------------------------------')\n",
        "print(classification_report(y_test, y_test_hat))"
      ]
    },
    {
      "cell_type": "code",
      "execution_count": null,
      "id": "6545170f",
      "metadata": {
        "id": "6545170f",
        "outputId": "fbdd209a-a1e7-4d4d-b58e-8168ba923917"
      },
      "outputs": [
        {
          "name": "stdout",
          "output_type": "stream",
          "text": [
            "MLPClassifier()\n",
            "Train performance\n",
            "-------------------------------------------------------\n",
            "              precision    recall  f1-score   support\n",
            "\n",
            "           0       0.69      0.00      0.01     28103\n",
            "           1       0.50      1.00      0.66     27877\n",
            "\n",
            "    accuracy                           0.50     55980\n",
            "   macro avg       0.60      0.50      0.34     55980\n",
            "weighted avg       0.60      0.50      0.34     55980\n",
            "\n",
            "Test performance\n",
            "-------------------------------------------------------\n",
            "              precision    recall  f1-score   support\n",
            "\n",
            "           0       0.67      0.00      0.01      6901\n",
            "           1       0.51      1.00      0.67      7095\n",
            "\n",
            "    accuracy                           0.51     13996\n",
            "   macro avg       0.59      0.50      0.34     13996\n",
            "weighted avg       0.59      0.51      0.35     13996\n",
            "\n"
          ]
        }
      ],
      "source": [
        "model = MLPClassifier()\n",
        "model.fit(X_train, y_train)\n",
        "y_train_hat = model.predict(X_train)\n",
        "y_test_hat = model.predict(X_test)\n",
        "\n",
        "print(model)\n",
        "print('Train performance')\n",
        "print('-------------------------------------------------------')\n",
        "print(classification_report(y_train, y_train_hat))\n",
        "\n",
        "print('Test performance')\n",
        "print('-------------------------------------------------------')\n",
        "print(classification_report(y_test, y_test_hat))"
      ]
    },
    {
      "cell_type": "code",
      "execution_count": null,
      "id": "e532d371",
      "metadata": {
        "id": "e532d371",
        "outputId": "6acb6b00-79c2-49dc-efb9-cf83d87a2dff"
      },
      "outputs": [
        {
          "name": "stdout",
          "output_type": "stream",
          "text": [
            "KNeighborsClassifier()\n",
            "Train performance\n",
            "-------------------------------------------------------\n",
            "              precision    recall  f1-score   support\n",
            "\n",
            "           0       0.77      0.80      0.78     28103\n",
            "           1       0.79      0.76      0.77     27877\n",
            "\n",
            "    accuracy                           0.78     55980\n",
            "   macro avg       0.78      0.78      0.78     55980\n",
            "weighted avg       0.78      0.78      0.78     55980\n",
            "\n",
            "Test performance\n",
            "-------------------------------------------------------\n",
            "              precision    recall  f1-score   support\n",
            "\n",
            "           0       0.67      0.71      0.69      6901\n",
            "           1       0.70      0.66      0.68      7095\n",
            "\n",
            "    accuracy                           0.69     13996\n",
            "   macro avg       0.69      0.69      0.69     13996\n",
            "weighted avg       0.69      0.69      0.69     13996\n",
            "\n"
          ]
        }
      ],
      "source": [
        "model = KNeighborsClassifier()\n",
        "model.fit(X_train, y_train)\n",
        "y_train_hat = model.predict(X_train)\n",
        "y_test_hat = model.predict(X_test)\n",
        "print(model)\n",
        "print('Train performance')\n",
        "print('-------------------------------------------------------')\n",
        "print(classification_report(y_train, y_train_hat))\n",
        "\n",
        "print('Test performance')\n",
        "print('-------------------------------------------------------')\n",
        "print(classification_report(y_test, y_test_hat))"
      ]
    },
    {
      "cell_type": "code",
      "execution_count": null,
      "id": "0cfe2324",
      "metadata": {
        "scrolled": true,
        "id": "0cfe2324",
        "outputId": "2d839be2-db67-40fd-8564-97c6f1ed2c72"
      },
      "outputs": [
        {
          "name": "stdout",
          "output_type": "stream",
          "text": [
            "XGBClassifier(base_score=0.5, booster='gbtree', callbacks=None,\n",
            "              colsample_bylevel=1, colsample_bynode=1, colsample_bytree=1,\n",
            "              early_stopping_rounds=None, enable_categorical=False,\n",
            "              eval_metric=None, feature_types=None, gamma=0, gpu_id=-1,\n",
            "              grow_policy='depthwise', importance_type=None,\n",
            "              interaction_constraints='', learning_rate=0.300000012,\n",
            "              max_bin=256, max_cat_threshold=64, max_cat_to_onehot=4,\n",
            "              max_delta_step=0, max_depth=6, max_leaves=0, min_child_weight=1,\n",
            "              missing=nan, monotone_constraints='()', n_estimators=100,\n",
            "              n_jobs=0, num_parallel_tree=1, predictor='auto', random_state=123, ...)\n",
            "Train performance\n",
            "-------------------------------------------------------\n",
            "              precision    recall  f1-score   support\n",
            "\n",
            "           0       0.75      0.81      0.78     28103\n",
            "           1       0.79      0.72      0.76     27877\n",
            "\n",
            "    accuracy                           0.77     55980\n",
            "   macro avg       0.77      0.77      0.77     55980\n",
            "weighted avg       0.77      0.77      0.77     55980\n",
            "\n",
            "Test performance\n",
            "-------------------------------------------------------\n",
            "              precision    recall  f1-score   support\n",
            "\n",
            "           0       0.71      0.77      0.74      6901\n",
            "           1       0.76      0.69      0.72      7095\n",
            "\n",
            "    accuracy                           0.73     13996\n",
            "   macro avg       0.73      0.73      0.73     13996\n",
            "weighted avg       0.73      0.73      0.73     13996\n",
            "\n"
          ]
        }
      ],
      "source": [
        "from xgboost import XGBClassifier\n",
        "\n",
        "model = XGBClassifier(random_state=123)\n",
        "model.fit(X_train, y_train)\n",
        "y_train_hat = model.predict(X_train)\n",
        "y_test_hat = model.predict(X_test)\n",
        "\n",
        "print(model)\n",
        "print('Train performance')\n",
        "print('-------------------------------------------------------')\n",
        "print(classification_report(y_train, y_train_hat))\n",
        "\n",
        "print('Test performance')\n",
        "print('-------------------------------------------------------')\n",
        "print(classification_report(y_test, y_test_hat))"
      ]
    },
    {
      "cell_type": "code",
      "execution_count": null,
      "id": "a0c6a13d",
      "metadata": {
        "id": "a0c6a13d",
        "outputId": "11914439-55ce-4412-874b-517f0bdbf121"
      },
      "outputs": [
        {
          "data": {
            "text/plain": [
              "(55980, 11)"
            ]
          },
          "execution_count": 32,
          "metadata": {},
          "output_type": "execute_result"
        }
      ],
      "source": [
        "X_train.shape"
      ]
    },
    {
      "cell_type": "code",
      "execution_count": null,
      "id": "da5d6fdf",
      "metadata": {
        "id": "da5d6fdf",
        "outputId": "6a62846a-4728-4e27-cfcc-b63cf3c2c731"
      },
      "outputs": [
        {
          "data": {
            "text/plain": [
              "(55980,)"
            ]
          },
          "execution_count": 48,
          "metadata": {},
          "output_type": "execute_result"
        }
      ],
      "source": [
        "y_train.shape"
      ]
    },
    {
      "cell_type": "code",
      "execution_count": null,
      "id": "ce3d9e3c",
      "metadata": {
        "id": "ce3d9e3c"
      },
      "outputs": [],
      "source": [
        "import numpy as np"
      ]
    },
    {
      "cell_type": "code",
      "execution_count": null,
      "id": "f06dbfc1",
      "metadata": {
        "id": "f06dbfc1",
        "outputId": "8c452b66-749e-470a-da48-0e9bfeb891d3"
      },
      "outputs": [
        {
          "data": {
            "text/plain": [
              "array([100, 150, 200, 250, 300, 350, 400, 450])"
            ]
          },
          "execution_count": 37,
          "metadata": {},
          "output_type": "execute_result"
        }
      ],
      "source": [
        "v = np.arange(100,500,50)\n",
        "v"
      ]
    },
    {
      "cell_type": "code",
      "execution_count": null,
      "id": "e9af8e8e",
      "metadata": {
        "id": "e9af8e8e"
      },
      "outputs": [],
      "source": [
        "from sklearn.model_selection import GridSearchCV"
      ]
    },
    {
      "cell_type": "code",
      "execution_count": null,
      "id": "db8b5286",
      "metadata": {
        "id": "db8b5286"
      },
      "outputs": [],
      "source": [
        "n_estimators: The number of boosting rounds. Range: [100, 1000].\n",
        "\n",
        "learning_rate: Controls the step size at each boosting iteration. Range: [0.001, 0.3].\n",
        "\n",
        "max_depth: The maximum depth of a tree. Range: [3, 10].\n",
        "\n",
        "subsample: The fraction of observations to be randomly sampled for each tree. Range: [0.5, 1.0].\n",
        "\n",
        "colsample_bytree: The fraction of columns to be randomly sampled for each tree. Range: [0.5, 1.0].\n",
        "\n",
        "min_child_weight: The minimum sum of weights of all observations required in a child. Range: [1, 10].\n",
        "\n",
        "gamma: The minimum loss reduction required to make a further partition on a leaf node. Range: [0, 5].\n",
        "\n",
        "reg_lambda: L2 regularization term on weights. Range: [0, 5]."
      ]
    },
    {
      "cell_type": "code",
      "execution_count": null,
      "id": "cfdd8f78",
      "metadata": {
        "id": "cfdd8f78"
      },
      "outputs": [],
      "source": [
        "n_estimators_range = np.arange(0,500,50)\n",
        "learning_rate_range = np.arange(0.001,0.02,0.005)\n",
        "max_depth_range = np.arange(3,10,2)\n",
        "gamma_range = np.arange(1,10,2)\n",
        "reg_lambda_range = np.arange(0,5,1)\n",
        "\n",
        "param_grid = dict(n_estimators = n_estimators_range, learning_rate = learning_rate_range,max_depth = max_depth_range, gamma = gamma_range,reg_lambda = reg_lambda_range )"
      ]
    },
    {
      "cell_type": "code",
      "execution_count": null,
      "id": "6d9080f2",
      "metadata": {
        "id": "6d9080f2"
      },
      "outputs": [],
      "source": [
        "md = XGBClassifier(random_state=123)"
      ]
    },
    {
      "cell_type": "code",
      "execution_count": null,
      "id": "a2810e4c",
      "metadata": {
        "id": "a2810e4c",
        "outputId": "16fafc95-b13c-4089-f10e-27ac3f3f1322"
      },
      "outputs": [
        {
          "data": {
            "text/plain": [
              "{'n_estimators': array([  0,  50, 100, 150, 200, 250, 300, 350, 400, 450]),\n",
              " 'learning_rate': array([0.001, 0.006, 0.011, 0.016]),\n",
              " 'max_depth': array([3, 5, 7, 9]),\n",
              " 'gamma': array([1, 3, 5, 7, 9]),\n",
              " 'reg_lambda': array([0, 1, 2, 3, 4])}"
            ]
          },
          "execution_count": 44,
          "metadata": {},
          "output_type": "execute_result"
        }
      ],
      "source": [
        "param_grid"
      ]
    },
    {
      "cell_type": "code",
      "execution_count": null,
      "id": "ab6e60b0",
      "metadata": {
        "id": "ab6e60b0"
      },
      "outputs": [],
      "source": [
        "grid = GridSearchCV(estimator = md, param_grid = param_grid, cv = 5)"
      ]
    },
    {
      "cell_type": "code",
      "execution_count": null,
      "id": "86ae3f75",
      "metadata": {
        "id": "86ae3f75"
      },
      "outputs": [],
      "source": [
        "grid.fit(X_train, y_train)"
      ]
    },
    {
      "cell_type": "code",
      "execution_count": null,
      "id": "4942ea42",
      "metadata": {
        "id": "4942ea42"
      },
      "outputs": [],
      "source": []
    },
    {
      "cell_type": "code",
      "execution_count": null,
      "id": "1bd987ef",
      "metadata": {
        "id": "1bd987ef"
      },
      "outputs": [],
      "source": [
        "from lazypredict.Supervised import LazyClassifier"
      ]
    },
    {
      "cell_type": "code",
      "execution_count": null,
      "id": "da3c2ee3",
      "metadata": {
        "id": "da3c2ee3"
      },
      "outputs": [],
      "source": [
        "# Select 500 random samples from class 0\n",
        "df_0 = ds[ds[\"cardio\"] == 0].sample(500, random_state=42)\n",
        "\n",
        "# Select 500 random samples from class 1\n",
        "df_1 = ds[ds[\"cardio\"] == 1].sample(500, random_state=42)\n",
        "\n",
        "# Concatenate the two dataframes\n",
        "df_concat = pd.concat([df_0, df_1], axis=0)\n",
        "\n",
        "# Shuffle the concatenated dataframe\n",
        "df_concat = df_concat.sample(frac=1, random_state=42).reset_index(drop=True)"
      ]
    },
    {
      "cell_type": "code",
      "execution_count": null,
      "id": "e42df9e8",
      "metadata": {
        "scrolled": true,
        "id": "e42df9e8"
      },
      "outputs": [],
      "source": [
        "df_concat\n",
        "\n",
        "x1 = df_concat.drop('cardio', axis = 1)\n",
        "y1 = df_concat['cardio']"
      ]
    },
    {
      "cell_type": "code",
      "execution_count": null,
      "id": "1913db27",
      "metadata": {
        "id": "1913db27"
      },
      "outputs": [],
      "source": [
        "x_train1, x_test1, y_train1, y_test1 = train_test_split(x1, y1, test_size = 0.20, random_state = 42)"
      ]
    },
    {
      "cell_type": "code",
      "execution_count": null,
      "id": "96bf595e",
      "metadata": {
        "id": "96bf595e",
        "outputId": "2ad0571e-c29e-4ffc-e5c2-783de354c72b"
      },
      "outputs": [
        {
          "name": "stderr",
          "output_type": "stream",
          "text": [
            "100%|██████████████████████████████████████████████████████████████████████████████████| 29/29 [00:02<00:00,  9.82it/s]\n"
          ]
        },
        {
          "data": {
            "text/html": [
              "<div>\n",
              "<style scoped>\n",
              "    .dataframe tbody tr th:only-of-type {\n",
              "        vertical-align: middle;\n",
              "    }\n",
              "\n",
              "    .dataframe tbody tr th {\n",
              "        vertical-align: top;\n",
              "    }\n",
              "\n",
              "    .dataframe thead th {\n",
              "        text-align: right;\n",
              "    }\n",
              "</style>\n",
              "<table border=\"1\" class=\"dataframe\">\n",
              "  <thead>\n",
              "    <tr style=\"text-align: right;\">\n",
              "      <th></th>\n",
              "      <th>Accuracy</th>\n",
              "      <th>Balanced Accuracy</th>\n",
              "      <th>ROC AUC</th>\n",
              "      <th>F1 Score</th>\n",
              "      <th>Time Taken</th>\n",
              "    </tr>\n",
              "    <tr>\n",
              "      <th>Model</th>\n",
              "      <th></th>\n",
              "      <th></th>\n",
              "      <th></th>\n",
              "      <th></th>\n",
              "      <th></th>\n",
              "    </tr>\n",
              "  </thead>\n",
              "  <tbody>\n",
              "    <tr>\n",
              "      <th>SGDClassifier</th>\n",
              "      <td>0.77</td>\n",
              "      <td>0.77</td>\n",
              "      <td>0.77</td>\n",
              "      <td>0.76</td>\n",
              "      <td>0.03</td>\n",
              "    </tr>\n",
              "    <tr>\n",
              "      <th>LinearSVC</th>\n",
              "      <td>0.74</td>\n",
              "      <td>0.74</td>\n",
              "      <td>0.74</td>\n",
              "      <td>0.74</td>\n",
              "      <td>0.10</td>\n",
              "    </tr>\n",
              "    <tr>\n",
              "      <th>LinearDiscriminantAnalysis</th>\n",
              "      <td>0.74</td>\n",
              "      <td>0.74</td>\n",
              "      <td>0.74</td>\n",
              "      <td>0.74</td>\n",
              "      <td>0.06</td>\n",
              "    </tr>\n",
              "    <tr>\n",
              "      <th>CalibratedClassifierCV</th>\n",
              "      <td>0.74</td>\n",
              "      <td>0.74</td>\n",
              "      <td>0.74</td>\n",
              "      <td>0.74</td>\n",
              "      <td>0.35</td>\n",
              "    </tr>\n",
              "    <tr>\n",
              "      <th>SVC</th>\n",
              "      <td>0.74</td>\n",
              "      <td>0.74</td>\n",
              "      <td>0.74</td>\n",
              "      <td>0.74</td>\n",
              "      <td>0.13</td>\n",
              "    </tr>\n",
              "    <tr>\n",
              "      <th>RidgeClassifierCV</th>\n",
              "      <td>0.74</td>\n",
              "      <td>0.74</td>\n",
              "      <td>0.74</td>\n",
              "      <td>0.74</td>\n",
              "      <td>0.02</td>\n",
              "    </tr>\n",
              "    <tr>\n",
              "      <th>RidgeClassifier</th>\n",
              "      <td>0.74</td>\n",
              "      <td>0.74</td>\n",
              "      <td>0.74</td>\n",
              "      <td>0.74</td>\n",
              "      <td>0.04</td>\n",
              "    </tr>\n",
              "    <tr>\n",
              "      <th>BernoulliNB</th>\n",
              "      <td>0.73</td>\n",
              "      <td>0.74</td>\n",
              "      <td>0.74</td>\n",
              "      <td>0.73</td>\n",
              "      <td>0.03</td>\n",
              "    </tr>\n",
              "    <tr>\n",
              "      <th>LogisticRegression</th>\n",
              "      <td>0.73</td>\n",
              "      <td>0.73</td>\n",
              "      <td>0.73</td>\n",
              "      <td>0.73</td>\n",
              "      <td>0.05</td>\n",
              "    </tr>\n",
              "    <tr>\n",
              "      <th>NearestCentroid</th>\n",
              "      <td>0.73</td>\n",
              "      <td>0.73</td>\n",
              "      <td>0.73</td>\n",
              "      <td>0.73</td>\n",
              "      <td>0.03</td>\n",
              "    </tr>\n",
              "    <tr>\n",
              "      <th>AdaBoostClassifier</th>\n",
              "      <td>0.72</td>\n",
              "      <td>0.73</td>\n",
              "      <td>0.72</td>\n",
              "      <td>0.72</td>\n",
              "      <td>0.24</td>\n",
              "    </tr>\n",
              "    <tr>\n",
              "      <th>NuSVC</th>\n",
              "      <td>0.72</td>\n",
              "      <td>0.72</td>\n",
              "      <td>0.72</td>\n",
              "      <td>0.72</td>\n",
              "      <td>0.15</td>\n",
              "    </tr>\n",
              "    <tr>\n",
              "      <th>BaggingClassifier</th>\n",
              "      <td>0.71</td>\n",
              "      <td>0.71</td>\n",
              "      <td>0.71</td>\n",
              "      <td>0.71</td>\n",
              "      <td>0.09</td>\n",
              "    </tr>\n",
              "    <tr>\n",
              "      <th>XGBClassifier</th>\n",
              "      <td>0.71</td>\n",
              "      <td>0.71</td>\n",
              "      <td>0.71</td>\n",
              "      <td>0.71</td>\n",
              "      <td>0.22</td>\n",
              "    </tr>\n",
              "    <tr>\n",
              "      <th>LGBMClassifier</th>\n",
              "      <td>0.71</td>\n",
              "      <td>0.71</td>\n",
              "      <td>0.71</td>\n",
              "      <td>0.71</td>\n",
              "      <td>0.16</td>\n",
              "    </tr>\n",
              "    <tr>\n",
              "      <th>KNeighborsClassifier</th>\n",
              "      <td>0.69</td>\n",
              "      <td>0.69</td>\n",
              "      <td>0.69</td>\n",
              "      <td>0.69</td>\n",
              "      <td>0.03</td>\n",
              "    </tr>\n",
              "    <tr>\n",
              "      <th>ExtraTreesClassifier</th>\n",
              "      <td>0.69</td>\n",
              "      <td>0.69</td>\n",
              "      <td>0.69</td>\n",
              "      <td>0.69</td>\n",
              "      <td>0.37</td>\n",
              "    </tr>\n",
              "    <tr>\n",
              "      <th>RandomForestClassifier</th>\n",
              "      <td>0.69</td>\n",
              "      <td>0.69</td>\n",
              "      <td>0.68</td>\n",
              "      <td>0.68</td>\n",
              "      <td>0.44</td>\n",
              "    </tr>\n",
              "    <tr>\n",
              "      <th>Perceptron</th>\n",
              "      <td>0.67</td>\n",
              "      <td>0.67</td>\n",
              "      <td>0.67</td>\n",
              "      <td>0.65</td>\n",
              "      <td>0.02</td>\n",
              "    </tr>\n",
              "    <tr>\n",
              "      <th>LabelPropagation</th>\n",
              "      <td>0.66</td>\n",
              "      <td>0.66</td>\n",
              "      <td>0.66</td>\n",
              "      <td>0.65</td>\n",
              "      <td>0.08</td>\n",
              "    </tr>\n",
              "    <tr>\n",
              "      <th>LabelSpreading</th>\n",
              "      <td>0.65</td>\n",
              "      <td>0.65</td>\n",
              "      <td>0.65</td>\n",
              "      <td>0.65</td>\n",
              "      <td>0.10</td>\n",
              "    </tr>\n",
              "    <tr>\n",
              "      <th>GaussianNB</th>\n",
              "      <td>0.65</td>\n",
              "      <td>0.65</td>\n",
              "      <td>0.65</td>\n",
              "      <td>0.63</td>\n",
              "      <td>0.03</td>\n",
              "    </tr>\n",
              "    <tr>\n",
              "      <th>QuadraticDiscriminantAnalysis</th>\n",
              "      <td>0.65</td>\n",
              "      <td>0.65</td>\n",
              "      <td>0.64</td>\n",
              "      <td>0.63</td>\n",
              "      <td>0.03</td>\n",
              "    </tr>\n",
              "    <tr>\n",
              "      <th>DecisionTreeClassifier</th>\n",
              "      <td>0.63</td>\n",
              "      <td>0.63</td>\n",
              "      <td>0.63</td>\n",
              "      <td>0.63</td>\n",
              "      <td>0.03</td>\n",
              "    </tr>\n",
              "    <tr>\n",
              "      <th>ExtraTreeClassifier</th>\n",
              "      <td>0.59</td>\n",
              "      <td>0.59</td>\n",
              "      <td>0.59</td>\n",
              "      <td>0.59</td>\n",
              "      <td>0.02</td>\n",
              "    </tr>\n",
              "    <tr>\n",
              "      <th>PassiveAggressiveClassifier</th>\n",
              "      <td>0.52</td>\n",
              "      <td>0.52</td>\n",
              "      <td>0.52</td>\n",
              "      <td>0.51</td>\n",
              "      <td>0.04</td>\n",
              "    </tr>\n",
              "    <tr>\n",
              "      <th>DummyClassifier</th>\n",
              "      <td>0.50</td>\n",
              "      <td>0.50</td>\n",
              "      <td>0.50</td>\n",
              "      <td>0.33</td>\n",
              "      <td>0.02</td>\n",
              "    </tr>\n",
              "  </tbody>\n",
              "</table>\n",
              "</div>"
            ],
            "text/plain": [
              "                               Accuracy  Balanced Accuracy  ROC AUC  F1 Score  \\\n",
              "Model                                                                           \n",
              "SGDClassifier                      0.77               0.77     0.77      0.76   \n",
              "LinearSVC                          0.74               0.74     0.74      0.74   \n",
              "LinearDiscriminantAnalysis         0.74               0.74     0.74      0.74   \n",
              "CalibratedClassifierCV             0.74               0.74     0.74      0.74   \n",
              "SVC                                0.74               0.74     0.74      0.74   \n",
              "RidgeClassifierCV                  0.74               0.74     0.74      0.74   \n",
              "RidgeClassifier                    0.74               0.74     0.74      0.74   \n",
              "BernoulliNB                        0.73               0.74     0.74      0.73   \n",
              "LogisticRegression                 0.73               0.73     0.73      0.73   \n",
              "NearestCentroid                    0.73               0.73     0.73      0.73   \n",
              "AdaBoostClassifier                 0.72               0.73     0.72      0.72   \n",
              "NuSVC                              0.72               0.72     0.72      0.72   \n",
              "BaggingClassifier                  0.71               0.71     0.71      0.71   \n",
              "XGBClassifier                      0.71               0.71     0.71      0.71   \n",
              "LGBMClassifier                     0.71               0.71     0.71      0.71   \n",
              "KNeighborsClassifier               0.69               0.69     0.69      0.69   \n",
              "ExtraTreesClassifier               0.69               0.69     0.69      0.69   \n",
              "RandomForestClassifier             0.69               0.69     0.68      0.68   \n",
              "Perceptron                         0.67               0.67     0.67      0.65   \n",
              "LabelPropagation                   0.66               0.66     0.66      0.65   \n",
              "LabelSpreading                     0.65               0.65     0.65      0.65   \n",
              "GaussianNB                         0.65               0.65     0.65      0.63   \n",
              "QuadraticDiscriminantAnalysis      0.65               0.65     0.64      0.63   \n",
              "DecisionTreeClassifier             0.63               0.63     0.63      0.63   \n",
              "ExtraTreeClassifier                0.59               0.59     0.59      0.59   \n",
              "PassiveAggressiveClassifier        0.52               0.52     0.52      0.51   \n",
              "DummyClassifier                    0.50               0.50     0.50      0.33   \n",
              "\n",
              "                               Time Taken  \n",
              "Model                                      \n",
              "SGDClassifier                        0.03  \n",
              "LinearSVC                            0.10  \n",
              "LinearDiscriminantAnalysis           0.06  \n",
              "CalibratedClassifierCV               0.35  \n",
              "SVC                                  0.13  \n",
              "RidgeClassifierCV                    0.02  \n",
              "RidgeClassifier                      0.04  \n",
              "BernoulliNB                          0.03  \n",
              "LogisticRegression                   0.05  \n",
              "NearestCentroid                      0.03  \n",
              "AdaBoostClassifier                   0.24  \n",
              "NuSVC                                0.15  \n",
              "BaggingClassifier                    0.09  \n",
              "XGBClassifier                        0.22  \n",
              "LGBMClassifier                       0.16  \n",
              "KNeighborsClassifier                 0.03  \n",
              "ExtraTreesClassifier                 0.37  \n",
              "RandomForestClassifier               0.44  \n",
              "Perceptron                           0.02  \n",
              "LabelPropagation                     0.08  \n",
              "LabelSpreading                       0.10  \n",
              "GaussianNB                           0.03  \n",
              "QuadraticDiscriminantAnalysis        0.03  \n",
              "DecisionTreeClassifier               0.03  \n",
              "ExtraTreeClassifier                  0.02  \n",
              "PassiveAggressiveClassifier          0.04  \n",
              "DummyClassifier                      0.02  "
            ]
          },
          "execution_count": 33,
          "metadata": {},
          "output_type": "execute_result"
        }
      ],
      "source": [
        "clf = LazyClassifier(verbose=0,ignore_warnings=True, custom_metric=None)\n",
        "models,predictions = clf.fit(x_train1, x_test1, y_train1, y_test1)\n",
        "models"
      ]
    },
    {
      "cell_type": "code",
      "execution_count": null,
      "id": "014c345a",
      "metadata": {
        "id": "014c345a"
      },
      "outputs": [],
      "source": [
        "from sklearn.preprocessing import StandardScaler\n",
        "scaler = StandardScaler()\n",
        "x_data = scaler.fit_transform(x1)"
      ]
    },
    {
      "cell_type": "code",
      "execution_count": null,
      "id": "62a0b721",
      "metadata": {
        "id": "62a0b721"
      },
      "outputs": [],
      "source": [
        "x_train2, x_test2, y_train2, y_test2 = train_test_split(x_data, y1, test_size = 0.20, random_state = 42)"
      ]
    },
    {
      "cell_type": "code",
      "execution_count": null,
      "id": "e9217904",
      "metadata": {
        "id": "e9217904",
        "outputId": "2c4944fe-8f26-495d-8ae5-7c478204614c"
      },
      "outputs": [
        {
          "name": "stdout",
          "output_type": "stream",
          "text": [
            "'tuple' object has no attribute '__name__'\n",
            "Invalid Classifier(s)\n"
          ]
        },
        {
          "name": "stderr",
          "output_type": "stream",
          "text": [
            "100%|██████████████████████████████████████████████████████████████████████████████████| 29/29 [00:02<00:00, 10.57it/s]\n"
          ]
        },
        {
          "data": {
            "text/html": [
              "<div>\n",
              "<style scoped>\n",
              "    .dataframe tbody tr th:only-of-type {\n",
              "        vertical-align: middle;\n",
              "    }\n",
              "\n",
              "    .dataframe tbody tr th {\n",
              "        vertical-align: top;\n",
              "    }\n",
              "\n",
              "    .dataframe thead th {\n",
              "        text-align: right;\n",
              "    }\n",
              "</style>\n",
              "<table border=\"1\" class=\"dataframe\">\n",
              "  <thead>\n",
              "    <tr style=\"text-align: right;\">\n",
              "      <th></th>\n",
              "      <th>Accuracy</th>\n",
              "      <th>Balanced Accuracy</th>\n",
              "      <th>ROC AUC</th>\n",
              "      <th>F1 Score</th>\n",
              "      <th>Time Taken</th>\n",
              "    </tr>\n",
              "    <tr>\n",
              "      <th>Model</th>\n",
              "      <th></th>\n",
              "      <th></th>\n",
              "      <th></th>\n",
              "      <th></th>\n",
              "      <th></th>\n",
              "    </tr>\n",
              "  </thead>\n",
              "  <tbody>\n",
              "    <tr>\n",
              "      <th>SGDClassifier</th>\n",
              "      <td>0.77</td>\n",
              "      <td>0.77</td>\n",
              "      <td>0.77</td>\n",
              "      <td>0.76</td>\n",
              "      <td>0.04</td>\n",
              "    </tr>\n",
              "    <tr>\n",
              "      <th>LinearSVC</th>\n",
              "      <td>0.74</td>\n",
              "      <td>0.74</td>\n",
              "      <td>0.74</td>\n",
              "      <td>0.74</td>\n",
              "      <td>0.10</td>\n",
              "    </tr>\n",
              "    <tr>\n",
              "      <th>LinearDiscriminantAnalysis</th>\n",
              "      <td>0.74</td>\n",
              "      <td>0.74</td>\n",
              "      <td>0.74</td>\n",
              "      <td>0.74</td>\n",
              "      <td>0.02</td>\n",
              "    </tr>\n",
              "    <tr>\n",
              "      <th>CalibratedClassifierCV</th>\n",
              "      <td>0.74</td>\n",
              "      <td>0.74</td>\n",
              "      <td>0.74</td>\n",
              "      <td>0.74</td>\n",
              "      <td>0.35</td>\n",
              "    </tr>\n",
              "    <tr>\n",
              "      <th>SVC</th>\n",
              "      <td>0.74</td>\n",
              "      <td>0.74</td>\n",
              "      <td>0.74</td>\n",
              "      <td>0.74</td>\n",
              "      <td>0.10</td>\n",
              "    </tr>\n",
              "    <tr>\n",
              "      <th>RidgeClassifierCV</th>\n",
              "      <td>0.74</td>\n",
              "      <td>0.74</td>\n",
              "      <td>0.74</td>\n",
              "      <td>0.74</td>\n",
              "      <td>0.03</td>\n",
              "    </tr>\n",
              "    <tr>\n",
              "      <th>RidgeClassifier</th>\n",
              "      <td>0.74</td>\n",
              "      <td>0.74</td>\n",
              "      <td>0.74</td>\n",
              "      <td>0.74</td>\n",
              "      <td>0.02</td>\n",
              "    </tr>\n",
              "    <tr>\n",
              "      <th>BernoulliNB</th>\n",
              "      <td>0.73</td>\n",
              "      <td>0.74</td>\n",
              "      <td>0.74</td>\n",
              "      <td>0.73</td>\n",
              "      <td>0.03</td>\n",
              "    </tr>\n",
              "    <tr>\n",
              "      <th>LogisticRegression</th>\n",
              "      <td>0.73</td>\n",
              "      <td>0.73</td>\n",
              "      <td>0.73</td>\n",
              "      <td>0.73</td>\n",
              "      <td>0.03</td>\n",
              "    </tr>\n",
              "    <tr>\n",
              "      <th>NearestCentroid</th>\n",
              "      <td>0.73</td>\n",
              "      <td>0.73</td>\n",
              "      <td>0.73</td>\n",
              "      <td>0.73</td>\n",
              "      <td>0.02</td>\n",
              "    </tr>\n",
              "    <tr>\n",
              "      <th>AdaBoostClassifier</th>\n",
              "      <td>0.72</td>\n",
              "      <td>0.73</td>\n",
              "      <td>0.72</td>\n",
              "      <td>0.72</td>\n",
              "      <td>0.22</td>\n",
              "    </tr>\n",
              "    <tr>\n",
              "      <th>NuSVC</th>\n",
              "      <td>0.72</td>\n",
              "      <td>0.72</td>\n",
              "      <td>0.72</td>\n",
              "      <td>0.72</td>\n",
              "      <td>0.14</td>\n",
              "    </tr>\n",
              "    <tr>\n",
              "      <th>BaggingClassifier</th>\n",
              "      <td>0.71</td>\n",
              "      <td>0.71</td>\n",
              "      <td>0.71</td>\n",
              "      <td>0.71</td>\n",
              "      <td>0.09</td>\n",
              "    </tr>\n",
              "    <tr>\n",
              "      <th>XGBClassifier</th>\n",
              "      <td>0.71</td>\n",
              "      <td>0.71</td>\n",
              "      <td>0.71</td>\n",
              "      <td>0.71</td>\n",
              "      <td>0.19</td>\n",
              "    </tr>\n",
              "    <tr>\n",
              "      <th>LGBMClassifier</th>\n",
              "      <td>0.71</td>\n",
              "      <td>0.71</td>\n",
              "      <td>0.71</td>\n",
              "      <td>0.71</td>\n",
              "      <td>0.14</td>\n",
              "    </tr>\n",
              "    <tr>\n",
              "      <th>KNeighborsClassifier</th>\n",
              "      <td>0.69</td>\n",
              "      <td>0.69</td>\n",
              "      <td>0.69</td>\n",
              "      <td>0.69</td>\n",
              "      <td>0.04</td>\n",
              "    </tr>\n",
              "    <tr>\n",
              "      <th>ExtraTreesClassifier</th>\n",
              "      <td>0.69</td>\n",
              "      <td>0.69</td>\n",
              "      <td>0.69</td>\n",
              "      <td>0.69</td>\n",
              "      <td>0.38</td>\n",
              "    </tr>\n",
              "    <tr>\n",
              "      <th>RandomForestClassifier</th>\n",
              "      <td>0.69</td>\n",
              "      <td>0.69</td>\n",
              "      <td>0.68</td>\n",
              "      <td>0.68</td>\n",
              "      <td>0.46</td>\n",
              "    </tr>\n",
              "    <tr>\n",
              "      <th>Perceptron</th>\n",
              "      <td>0.67</td>\n",
              "      <td>0.67</td>\n",
              "      <td>0.67</td>\n",
              "      <td>0.65</td>\n",
              "      <td>0.02</td>\n",
              "    </tr>\n",
              "    <tr>\n",
              "      <th>LabelPropagation</th>\n",
              "      <td>0.66</td>\n",
              "      <td>0.66</td>\n",
              "      <td>0.66</td>\n",
              "      <td>0.65</td>\n",
              "      <td>0.08</td>\n",
              "    </tr>\n",
              "    <tr>\n",
              "      <th>LabelSpreading</th>\n",
              "      <td>0.65</td>\n",
              "      <td>0.65</td>\n",
              "      <td>0.65</td>\n",
              "      <td>0.65</td>\n",
              "      <td>0.11</td>\n",
              "    </tr>\n",
              "    <tr>\n",
              "      <th>GaussianNB</th>\n",
              "      <td>0.65</td>\n",
              "      <td>0.65</td>\n",
              "      <td>0.65</td>\n",
              "      <td>0.63</td>\n",
              "      <td>0.02</td>\n",
              "    </tr>\n",
              "    <tr>\n",
              "      <th>QuadraticDiscriminantAnalysis</th>\n",
              "      <td>0.65</td>\n",
              "      <td>0.65</td>\n",
              "      <td>0.64</td>\n",
              "      <td>0.63</td>\n",
              "      <td>0.02</td>\n",
              "    </tr>\n",
              "    <tr>\n",
              "      <th>DecisionTreeClassifier</th>\n",
              "      <td>0.63</td>\n",
              "      <td>0.63</td>\n",
              "      <td>0.63</td>\n",
              "      <td>0.63</td>\n",
              "      <td>0.03</td>\n",
              "    </tr>\n",
              "    <tr>\n",
              "      <th>ExtraTreeClassifier</th>\n",
              "      <td>0.59</td>\n",
              "      <td>0.59</td>\n",
              "      <td>0.59</td>\n",
              "      <td>0.59</td>\n",
              "      <td>0.02</td>\n",
              "    </tr>\n",
              "    <tr>\n",
              "      <th>PassiveAggressiveClassifier</th>\n",
              "      <td>0.52</td>\n",
              "      <td>0.52</td>\n",
              "      <td>0.52</td>\n",
              "      <td>0.51</td>\n",
              "      <td>0.03</td>\n",
              "    </tr>\n",
              "    <tr>\n",
              "      <th>DummyClassifier</th>\n",
              "      <td>0.50</td>\n",
              "      <td>0.50</td>\n",
              "      <td>0.50</td>\n",
              "      <td>0.33</td>\n",
              "      <td>0.02</td>\n",
              "    </tr>\n",
              "  </tbody>\n",
              "</table>\n",
              "</div>"
            ],
            "text/plain": [
              "                               Accuracy  Balanced Accuracy  ROC AUC  F1 Score  \\\n",
              "Model                                                                           \n",
              "SGDClassifier                      0.77               0.77     0.77      0.76   \n",
              "LinearSVC                          0.74               0.74     0.74      0.74   \n",
              "LinearDiscriminantAnalysis         0.74               0.74     0.74      0.74   \n",
              "CalibratedClassifierCV             0.74               0.74     0.74      0.74   \n",
              "SVC                                0.74               0.74     0.74      0.74   \n",
              "RidgeClassifierCV                  0.74               0.74     0.74      0.74   \n",
              "RidgeClassifier                    0.74               0.74     0.74      0.74   \n",
              "BernoulliNB                        0.73               0.74     0.74      0.73   \n",
              "LogisticRegression                 0.73               0.73     0.73      0.73   \n",
              "NearestCentroid                    0.73               0.73     0.73      0.73   \n",
              "AdaBoostClassifier                 0.72               0.73     0.72      0.72   \n",
              "NuSVC                              0.72               0.72     0.72      0.72   \n",
              "BaggingClassifier                  0.71               0.71     0.71      0.71   \n",
              "XGBClassifier                      0.71               0.71     0.71      0.71   \n",
              "LGBMClassifier                     0.71               0.71     0.71      0.71   \n",
              "KNeighborsClassifier               0.69               0.69     0.69      0.69   \n",
              "ExtraTreesClassifier               0.69               0.69     0.69      0.69   \n",
              "RandomForestClassifier             0.69               0.69     0.68      0.68   \n",
              "Perceptron                         0.67               0.67     0.67      0.65   \n",
              "LabelPropagation                   0.66               0.66     0.66      0.65   \n",
              "LabelSpreading                     0.65               0.65     0.65      0.65   \n",
              "GaussianNB                         0.65               0.65     0.65      0.63   \n",
              "QuadraticDiscriminantAnalysis      0.65               0.65     0.64      0.63   \n",
              "DecisionTreeClassifier             0.63               0.63     0.63      0.63   \n",
              "ExtraTreeClassifier                0.59               0.59     0.59      0.59   \n",
              "PassiveAggressiveClassifier        0.52               0.52     0.52      0.51   \n",
              "DummyClassifier                    0.50               0.50     0.50      0.33   \n",
              "\n",
              "                               Time Taken  \n",
              "Model                                      \n",
              "SGDClassifier                        0.04  \n",
              "LinearSVC                            0.10  \n",
              "LinearDiscriminantAnalysis           0.02  \n",
              "CalibratedClassifierCV               0.35  \n",
              "SVC                                  0.10  \n",
              "RidgeClassifierCV                    0.03  \n",
              "RidgeClassifier                      0.02  \n",
              "BernoulliNB                          0.03  \n",
              "LogisticRegression                   0.03  \n",
              "NearestCentroid                      0.02  \n",
              "AdaBoostClassifier                   0.22  \n",
              "NuSVC                                0.14  \n",
              "BaggingClassifier                    0.09  \n",
              "XGBClassifier                        0.19  \n",
              "LGBMClassifier                       0.14  \n",
              "KNeighborsClassifier                 0.04  \n",
              "ExtraTreesClassifier                 0.38  \n",
              "RandomForestClassifier               0.46  \n",
              "Perceptron                           0.02  \n",
              "LabelPropagation                     0.08  \n",
              "LabelSpreading                       0.11  \n",
              "GaussianNB                           0.02  \n",
              "QuadraticDiscriminantAnalysis        0.02  \n",
              "DecisionTreeClassifier               0.03  \n",
              "ExtraTreeClassifier                  0.02  \n",
              "PassiveAggressiveClassifier          0.03  \n",
              "DummyClassifier                      0.02  "
            ]
          },
          "execution_count": 38,
          "metadata": {},
          "output_type": "execute_result"
        }
      ],
      "source": [
        "models,predictions = clf.fit(x_train2, x_test2, y_train2, y_test2)\n",
        "models"
      ]
    },
    {
      "cell_type": "code",
      "execution_count": null,
      "id": "ba0dc6db",
      "metadata": {
        "id": "ba0dc6db"
      },
      "outputs": [],
      "source": []
    }
  ],
  "metadata": {
    "kernelspec": {
      "display_name": "Python 3 (ipykernel)",
      "language": "python",
      "name": "python3"
    },
    "language_info": {
      "codemirror_mode": {
        "name": "ipython",
        "version": 3
      },
      "file_extension": ".py",
      "mimetype": "text/x-python",
      "name": "python",
      "nbconvert_exporter": "python",
      "pygments_lexer": "ipython3",
      "version": "3.9.12"
    },
    "colab": {
      "provenance": [],
      "include_colab_link": true
    }
  },
  "nbformat": 4,
  "nbformat_minor": 5
}