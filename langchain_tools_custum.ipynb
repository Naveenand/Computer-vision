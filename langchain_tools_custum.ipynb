{
  "nbformat": 4,
  "nbformat_minor": 0,
  "metadata": {
    "colab": {
      "provenance": [],
      "authorship_tag": "ABX9TyMpBaMeZCajwQ0wyTYX5754",
      "include_colab_link": true
    },
    "kernelspec": {
      "name": "python3",
      "display_name": "Python 3"
    },
    "language_info": {
      "name": "python"
    }
  },
  "cells": [
    {
      "cell_type": "markdown",
      "metadata": {
        "id": "view-in-github",
        "colab_type": "text"
      },
      "source": [
        "<a href=\"https://colab.research.google.com/github/Naveenand/Computer-vision/blob/main/langchain_tools_custum.ipynb\" target=\"_parent\"><img src=\"https://colab.research.google.com/assets/colab-badge.svg\" alt=\"Open In Colab\"/></a>"
      ]
    },
    {
      "cell_type": "code",
      "execution_count": 1,
      "metadata": {
        "colab": {
          "base_uri": "https://localhost:8080/"
        },
        "id": "BohwbZ4Pltgh",
        "outputId": "3f6303b0-09dc-47f2-81ac-bf4c328c4655"
      },
      "outputs": [
        {
          "output_type": "stream",
          "name": "stdout",
          "text": [
            "Collecting langchain\n",
            "  Downloading langchain-0.1.3-py3-none-any.whl (803 kB)\n",
            "\u001b[2K     \u001b[90m━━━━━━━━━━━━━━━━━━━━━━━━━━━━━━━━━━━━━━━━\u001b[0m \u001b[32m803.6/803.6 kB\u001b[0m \u001b[31m4.7 MB/s\u001b[0m eta \u001b[36m0:00:00\u001b[0m\n",
            "\u001b[?25hCollecting openai\n",
            "  Downloading openai-1.9.0-py3-none-any.whl (223 kB)\n",
            "\u001b[2K     \u001b[90m━━━━━━━━━━━━━━━━━━━━━━━━━━━━━━━━━━━━━━━━\u001b[0m \u001b[32m223.4/223.4 kB\u001b[0m \u001b[31m15.7 MB/s\u001b[0m eta \u001b[36m0:00:00\u001b[0m\n",
            "\u001b[?25hCollecting langchain-experimental\n",
            "  Downloading langchain_experimental-0.0.49-py3-none-any.whl (165 kB)\n",
            "\u001b[2K     \u001b[90m━━━━━━━━━━━━━━━━━━━━━━━━━━━━━━━━━━━━━━━━\u001b[0m \u001b[32m165.7/165.7 kB\u001b[0m \u001b[31m14.4 MB/s\u001b[0m eta \u001b[36m0:00:00\u001b[0m\n",
            "\u001b[?25hRequirement already satisfied: yfinance in /usr/local/lib/python3.10/dist-packages (0.2.36)\n",
            "Requirement already satisfied: PyYAML>=5.3 in /usr/local/lib/python3.10/dist-packages (from langchain) (6.0.1)\n",
            "Requirement already satisfied: SQLAlchemy<3,>=1.4 in /usr/local/lib/python3.10/dist-packages (from langchain) (2.0.24)\n",
            "Requirement already satisfied: aiohttp<4.0.0,>=3.8.3 in /usr/local/lib/python3.10/dist-packages (from langchain) (3.9.1)\n",
            "Requirement already satisfied: async-timeout<5.0.0,>=4.0.0 in /usr/local/lib/python3.10/dist-packages (from langchain) (4.0.3)\n",
            "Collecting dataclasses-json<0.7,>=0.5.7 (from langchain)\n",
            "  Downloading dataclasses_json-0.6.3-py3-none-any.whl (28 kB)\n",
            "Collecting jsonpatch<2.0,>=1.33 (from langchain)\n",
            "  Downloading jsonpatch-1.33-py2.py3-none-any.whl (12 kB)\n",
            "Collecting langchain-community<0.1,>=0.0.14 (from langchain)\n",
            "  Downloading langchain_community-0.0.15-py3-none-any.whl (1.6 MB)\n",
            "\u001b[2K     \u001b[90m━━━━━━━━━━━━━━━━━━━━━━━━━━━━━━━━━━━━━━━━\u001b[0m \u001b[32m1.6/1.6 MB\u001b[0m \u001b[31m25.3 MB/s\u001b[0m eta \u001b[36m0:00:00\u001b[0m\n",
            "\u001b[?25hCollecting langchain-core<0.2,>=0.1.14 (from langchain)\n",
            "  Downloading langchain_core-0.1.15-py3-none-any.whl (229 kB)\n",
            "\u001b[2K     \u001b[90m━━━━━━━━━━━━━━━━━━━━━━━━━━━━━━━━━━━━━━━━\u001b[0m \u001b[32m229.6/229.6 kB\u001b[0m \u001b[31m12.7 MB/s\u001b[0m eta \u001b[36m0:00:00\u001b[0m\n",
            "\u001b[?25hCollecting langsmith<0.1,>=0.0.83 (from langchain)\n",
            "  Downloading langsmith-0.0.83-py3-none-any.whl (49 kB)\n",
            "\u001b[2K     \u001b[90m━━━━━━━━━━━━━━━━━━━━━━━━━━━━━━━━━━━━━━━━\u001b[0m \u001b[32m49.3/49.3 kB\u001b[0m \u001b[31m3.2 MB/s\u001b[0m eta \u001b[36m0:00:00\u001b[0m\n",
            "\u001b[?25hRequirement already satisfied: numpy<2,>=1 in /usr/local/lib/python3.10/dist-packages (from langchain) (1.23.5)\n",
            "Requirement already satisfied: pydantic<3,>=1 in /usr/local/lib/python3.10/dist-packages (from langchain) (1.10.14)\n",
            "Requirement already satisfied: requests<3,>=2 in /usr/local/lib/python3.10/dist-packages (from langchain) (2.31.0)\n",
            "Requirement already satisfied: tenacity<9.0.0,>=8.1.0 in /usr/local/lib/python3.10/dist-packages (from langchain) (8.2.3)\n",
            "Requirement already satisfied: anyio<5,>=3.5.0 in /usr/local/lib/python3.10/dist-packages (from openai) (3.7.1)\n",
            "Requirement already satisfied: distro<2,>=1.7.0 in /usr/lib/python3/dist-packages (from openai) (1.7.0)\n",
            "Collecting httpx<1,>=0.23.0 (from openai)\n",
            "  Downloading httpx-0.26.0-py3-none-any.whl (75 kB)\n",
            "\u001b[2K     \u001b[90m━━━━━━━━━━━━━━━━━━━━━━━━━━━━━━━━━━━━━━━━\u001b[0m \u001b[32m75.9/75.9 kB\u001b[0m \u001b[31m5.3 MB/s\u001b[0m eta \u001b[36m0:00:00\u001b[0m\n",
            "\u001b[?25hRequirement already satisfied: sniffio in /usr/local/lib/python3.10/dist-packages (from openai) (1.3.0)\n",
            "Requirement already satisfied: tqdm>4 in /usr/local/lib/python3.10/dist-packages (from openai) (4.66.1)\n",
            "Collecting typing-extensions<5,>=4.7 (from openai)\n",
            "  Downloading typing_extensions-4.9.0-py3-none-any.whl (32 kB)\n",
            "Requirement already satisfied: pandas>=1.3.0 in /usr/local/lib/python3.10/dist-packages (from yfinance) (1.5.3)\n",
            "Requirement already satisfied: multitasking>=0.0.7 in /usr/local/lib/python3.10/dist-packages (from yfinance) (0.0.11)\n",
            "Requirement already satisfied: lxml>=4.9.1 in /usr/local/lib/python3.10/dist-packages (from yfinance) (4.9.4)\n",
            "Requirement already satisfied: appdirs>=1.4.4 in /usr/local/lib/python3.10/dist-packages (from yfinance) (1.4.4)\n",
            "Requirement already satisfied: pytz>=2022.5 in /usr/local/lib/python3.10/dist-packages (from yfinance) (2023.3.post1)\n",
            "Requirement already satisfied: frozendict>=2.3.4 in /usr/local/lib/python3.10/dist-packages (from yfinance) (2.4.0)\n",
            "Requirement already satisfied: peewee>=3.16.2 in /usr/local/lib/python3.10/dist-packages (from yfinance) (3.17.0)\n",
            "Requirement already satisfied: beautifulsoup4>=4.11.1 in /usr/local/lib/python3.10/dist-packages (from yfinance) (4.11.2)\n",
            "Requirement already satisfied: html5lib>=1.1 in /usr/local/lib/python3.10/dist-packages (from yfinance) (1.1)\n",
            "Requirement already satisfied: attrs>=17.3.0 in /usr/local/lib/python3.10/dist-packages (from aiohttp<4.0.0,>=3.8.3->langchain) (23.2.0)\n",
            "Requirement already satisfied: multidict<7.0,>=4.5 in /usr/local/lib/python3.10/dist-packages (from aiohttp<4.0.0,>=3.8.3->langchain) (6.0.4)\n",
            "Requirement already satisfied: yarl<2.0,>=1.0 in /usr/local/lib/python3.10/dist-packages (from aiohttp<4.0.0,>=3.8.3->langchain) (1.9.4)\n",
            "Requirement already satisfied: frozenlist>=1.1.1 in /usr/local/lib/python3.10/dist-packages (from aiohttp<4.0.0,>=3.8.3->langchain) (1.4.1)\n",
            "Requirement already satisfied: aiosignal>=1.1.2 in /usr/local/lib/python3.10/dist-packages (from aiohttp<4.0.0,>=3.8.3->langchain) (1.3.1)\n",
            "Requirement already satisfied: idna>=2.8 in /usr/local/lib/python3.10/dist-packages (from anyio<5,>=3.5.0->openai) (3.6)\n",
            "Requirement already satisfied: exceptiongroup in /usr/local/lib/python3.10/dist-packages (from anyio<5,>=3.5.0->openai) (1.2.0)\n",
            "Requirement already satisfied: soupsieve>1.2 in /usr/local/lib/python3.10/dist-packages (from beautifulsoup4>=4.11.1->yfinance) (2.5)\n",
            "Collecting marshmallow<4.0.0,>=3.18.0 (from dataclasses-json<0.7,>=0.5.7->langchain)\n",
            "  Downloading marshmallow-3.20.2-py3-none-any.whl (49 kB)\n",
            "\u001b[2K     \u001b[90m━━━━━━━━━━━━━━━━━━━━━━━━━━━━━━━━━━━━━━━━\u001b[0m \u001b[32m49.4/49.4 kB\u001b[0m \u001b[31m1.7 MB/s\u001b[0m eta \u001b[36m0:00:00\u001b[0m\n",
            "\u001b[?25hCollecting typing-inspect<1,>=0.4.0 (from dataclasses-json<0.7,>=0.5.7->langchain)\n",
            "  Downloading typing_inspect-0.9.0-py3-none-any.whl (8.8 kB)\n",
            "Requirement already satisfied: six>=1.9 in /usr/local/lib/python3.10/dist-packages (from html5lib>=1.1->yfinance) (1.16.0)\n",
            "Requirement already satisfied: webencodings in /usr/local/lib/python3.10/dist-packages (from html5lib>=1.1->yfinance) (0.5.1)\n",
            "Requirement already satisfied: certifi in /usr/local/lib/python3.10/dist-packages (from httpx<1,>=0.23.0->openai) (2023.11.17)\n",
            "Collecting httpcore==1.* (from httpx<1,>=0.23.0->openai)\n",
            "  Downloading httpcore-1.0.2-py3-none-any.whl (76 kB)\n",
            "\u001b[2K     \u001b[90m━━━━━━━━━━━━━━━━━━━━━━━━━━━━━━━━━━━━━━━━\u001b[0m \u001b[32m76.9/76.9 kB\u001b[0m \u001b[31m5.9 MB/s\u001b[0m eta \u001b[36m0:00:00\u001b[0m\n",
            "\u001b[?25hCollecting h11<0.15,>=0.13 (from httpcore==1.*->httpx<1,>=0.23.0->openai)\n",
            "  Downloading h11-0.14.0-py3-none-any.whl (58 kB)\n",
            "\u001b[2K     \u001b[90m━━━━━━━━━━━━━━━━━━━━━━━━━━━━━━━━━━━━━━━━\u001b[0m \u001b[32m58.3/58.3 kB\u001b[0m \u001b[31m4.2 MB/s\u001b[0m eta \u001b[36m0:00:00\u001b[0m\n",
            "\u001b[?25hCollecting jsonpointer>=1.9 (from jsonpatch<2.0,>=1.33->langchain)\n",
            "  Downloading jsonpointer-2.4-py2.py3-none-any.whl (7.8 kB)\n",
            "Requirement already satisfied: packaging<24.0,>=23.2 in /usr/local/lib/python3.10/dist-packages (from langchain-core<0.2,>=0.1.14->langchain) (23.2)\n",
            "Requirement already satisfied: python-dateutil>=2.8.1 in /usr/local/lib/python3.10/dist-packages (from pandas>=1.3.0->yfinance) (2.8.2)\n",
            "Requirement already satisfied: charset-normalizer<4,>=2 in /usr/local/lib/python3.10/dist-packages (from requests<3,>=2->langchain) (3.3.2)\n",
            "Requirement already satisfied: urllib3<3,>=1.21.1 in /usr/local/lib/python3.10/dist-packages (from requests<3,>=2->langchain) (2.0.7)\n",
            "Requirement already satisfied: greenlet!=0.4.17 in /usr/local/lib/python3.10/dist-packages (from SQLAlchemy<3,>=1.4->langchain) (3.0.3)\n",
            "Collecting mypy-extensions>=0.3.0 (from typing-inspect<1,>=0.4.0->dataclasses-json<0.7,>=0.5.7->langchain)\n",
            "  Downloading mypy_extensions-1.0.0-py3-none-any.whl (4.7 kB)\n",
            "Installing collected packages: typing-extensions, mypy-extensions, marshmallow, jsonpointer, h11, typing-inspect, jsonpatch, httpcore, langsmith, httpx, dataclasses-json, openai, langchain-core, langchain-community, langchain, langchain-experimental\n",
            "  Attempting uninstall: typing-extensions\n",
            "    Found existing installation: typing_extensions 4.5.0\n",
            "    Uninstalling typing_extensions-4.5.0:\n",
            "      Successfully uninstalled typing_extensions-4.5.0\n",
            "\u001b[31mERROR: pip's dependency resolver does not currently take into account all the packages that are installed. This behaviour is the source of the following dependency conflicts.\n",
            "llmx 0.0.15a0 requires cohere, which is not installed.\n",
            "llmx 0.0.15a0 requires tiktoken, which is not installed.\n",
            "tensorflow-probability 0.22.0 requires typing-extensions<4.6.0, but you have typing-extensions 4.9.0 which is incompatible.\u001b[0m\u001b[31m\n",
            "\u001b[0mSuccessfully installed dataclasses-json-0.6.3 h11-0.14.0 httpcore-1.0.2 httpx-0.26.0 jsonpatch-1.33 jsonpointer-2.4 langchain-0.1.3 langchain-community-0.0.15 langchain-core-0.1.15 langchain-experimental-0.0.49 langsmith-0.0.83 marshmallow-3.20.2 mypy-extensions-1.0.0 openai-1.9.0 typing-extensions-4.9.0 typing-inspect-0.9.0\n"
          ]
        }
      ],
      "source": [
        "!pip install langchain openai  langchain-experimental yfinance"
      ]
    },
    {
      "cell_type": "code",
      "source": [
        "import yfinance as yf\n",
        "from datetime import datetime, timedelta\n"
      ],
      "metadata": {
        "id": "Csrqw0DjmBG7",
        "colab": {
          "base_uri": "https://localhost:8080/"
        },
        "outputId": "96907420-8891-4431-f74a-c5ddeeb9e35c"
      },
      "execution_count": 2,
      "outputs": [
        {
          "output_type": "stream",
          "name": "stderr",
          "text": [
            "/usr/local/lib/python3.10/dist-packages/yfinance/base.py:48: FutureWarning: The default dtype for empty Series will be 'object' instead of 'float64' in a future version. Specify a dtype explicitly to silence this warning.\n",
            "  _empty_series = pd.Series()\n"
          ]
        }
      ]
    },
    {
      "cell_type": "code",
      "source": [
        "import os\n",
        "from uuid import uuid4\n",
        "\n",
        "unique_id = uuid4().hex[0:8]\n",
        "os.environ[\"LANGCHAIN_TRACING_V2\"] = \"true\"\n",
        "os.environ[\"LANGCHAIN_PROJECT\"] = f\"New_startup project - {unique_id}\"\n",
        "os.environ[\"LANGCHAIN_ENDPOINT\"] = \"https://api.smith.langchain.com\""
      ],
      "metadata": {
        "id": "M-cm3_oJ9mho"
      },
      "execution_count": 3,
      "outputs": []
    },
    {
      "cell_type": "code",
      "source": [
        "os.environ[\"LANGCHAIN_API_KEY\"] = \"your_api_key\""
      ],
      "metadata": {
        "id": "_1AnXpyT9rPb"
      },
      "execution_count": 4,
      "outputs": []
    },
    {
      "cell_type": "code",
      "source": [
        "def get_current_stock_price(ticker):\n",
        "  \"\"\"Method to get current stock price\"\"\"\n",
        "  ticker_data = yf.Ticker(ticker)\n",
        "  recent = ticker_data.history(period= '1d')\n",
        "  return {'price': recent.iloc[0]['Close'],'currency': ticker_data.info['currency']}"
      ],
      "metadata": {
        "id": "_VKxaKqEmVWP"
      },
      "execution_count": 5,
      "outputs": []
    },
    {
      "cell_type": "code",
      "source": [
        "def get_stock_performance(ticker,days):\n",
        "  \"\"\"Method to get stock price change in percentage\"\"\"\n",
        "\n",
        "  past_date = datetime.today() - timedelta(days = days)\n",
        "  ticker_data = yf.Ticker(ticker)\n",
        "  history = ticker_data.history(start = past_date)\n",
        "  old_price = history.iloc[0]['Close']\n",
        "  current_price = history.iloc[-1]['Close']\n",
        "  return {'Percent_change': ((current_price - old_price)/ old_price) * 100}"
      ],
      "metadata": {
        "id": "V257nGWunBon"
      },
      "execution_count": 6,
      "outputs": []
    },
    {
      "cell_type": "code",
      "source": [
        "from typing import Type\n",
        "from pydantic import BaseModel, Field\n",
        "from langchain.tools import BaseTool"
      ],
      "metadata": {
        "id": "edQYp8T7oIJ4"
      },
      "execution_count": 7,
      "outputs": []
    },
    {
      "cell_type": "code",
      "source": [
        "from typing import List"
      ],
      "metadata": {
        "id": "HqPjt122dbEF"
      },
      "execution_count": 8,
      "outputs": []
    },
    {
      "cell_type": "code",
      "source": [
        "class CurrentStockPriceInput(BaseModel):\n",
        "  \"\"\"Inputs for get_current_stock_price\"\"\"\n",
        "\n",
        "  ticker: str = Field(description = \"Ticker symbol of the stock\")\n",
        "\n",
        "class CurrentStockPriceTool(BaseTool):\n",
        "  name = \"get_current_stock_price\"\n",
        "  description = \"\"\"\n",
        "      useful when you want to get current stock price.\n",
        "      you should enter the stock ticker symbol recongnized by the yahoo finance\n",
        "      output will be stock current price and stock price currency\n",
        "      \"\"\"\n",
        "\n",
        "  args_schema: Type[BaseModel] = CurrentStockPriceInput\n",
        "\n",
        "  def _run(self,ticker : str):\n",
        "    price_response = get_current_stock_price(ticker)\n",
        "    return price_response\n",
        "\n",
        "\n",
        "  def _arun(self,ticker:str):\n",
        "    raise NotImplementedError('get_current_stock_price does not support async')"
      ],
      "metadata": {
        "id": "6pzkZAV_obL7"
      },
      "execution_count": 9,
      "outputs": []
    },
    {
      "cell_type": "code",
      "source": [
        "class StockPercentChangeInput(BaseModel):\n",
        "  \"\"\"Inputs for get_stock_performance\"\"\"\n",
        "\n",
        "  ticker: str = Field(description = \"Ticker symbol of the stock\")\n",
        "  days : int = Field(description = \"Timedelta days to get past date from current date\")\n",
        "\n",
        "\n",
        "\n",
        "class StockPercentChangeTool(BaseTool):\n",
        "\n",
        "  name = 'get_stock_performance'\n",
        "  description = \"\"\"\n",
        "      useful when you want to check performance of the stock.\n",
        "      you should enter the stock ticker symbol recongnized by the yahoo finance.\n",
        "      you should enter days as number of days from today from which performance needs to be check\n",
        "      output will be the change in the stock price represented as a percentage.\n",
        "      \"\"\"\n",
        "  args_schema: Type[BaseModel] = StockPercentChangeInput\n",
        "\n",
        "  def _run(self, ticker:str, days : int):\n",
        "    response = get_stock_performance(ticker,days)\n",
        "    return response\n",
        "\n",
        "  def _arun(self,ticker:str):\n",
        "    raise NotImplementedError(\"get_stock_performance does not support async\")"
      ],
      "metadata": {
        "id": "GnYDTdlHb2JP"
      },
      "execution_count": 10,
      "outputs": []
    },
    {
      "cell_type": "code",
      "source": [
        "class VolatileScoreInput(BaseModel):\n",
        "    \"\"\"Inputs for calculate_volatile_score\"\"\"\n",
        "\n",
        "    stock_ticker: str = Field(description=\"Ticker symbol of the stock\")\n",
        "    days: int = Field(description=\"Number of days to calculate volatility score\")\n",
        "\n",
        "class VolatileScoreTool(BaseTool):\n",
        "    name = 'calculate_volatile_score'\n",
        "    description = \"\"\"\n",
        "        Useful when you want to calculate the volatility score of a stock.\n",
        "        Enter the stock ticker symbol recognized by Yahoo Finance and the number of days.\n",
        "        The output will be the volatility score represented as a percentage.\n",
        "        \"\"\"\n",
        "    args_schema: Type[BaseModel] = VolatileScoreInput\n",
        "\n",
        "    def _run(self, stock_ticker: str, days: int):\n",
        "        stock_data = yf.download(stock_ticker, period=f\"{days}d\")\n",
        "        stock_data['Daily_Return'] = stock_data['Close'].pct_change()\n",
        "        volatility_score = stock_data['Daily_Return'].std()\n",
        "        return {'volatility_score': volatility_score * 100}\n",
        "\n",
        "    def _arun(self, stock_ticker: str):\n",
        "        raise NotImplementedError(\"calculate_volatile_score does not support async\")\n"
      ],
      "metadata": {
        "id": "sE959J5Yaot1"
      },
      "execution_count": 11,
      "outputs": []
    },
    {
      "cell_type": "code",
      "source": [
        "class MultiStockPriceInput(BaseModel):\n",
        "    \"\"\"Inputs for get_current_stock_price for multiple stocks\"\"\"\n",
        "\n",
        "    tickers: List[str] = Field(description=\"List of stock ticker symbols\")\n",
        "\n",
        "class MultiStockPriceTool(BaseTool):\n",
        "    name = \"get_multi_stock_prices\"\n",
        "    description = \"\"\"\n",
        "        Useful when you want to get current stock prices for multiple stocks.\n",
        "        Enter a list of stock ticker symbols recognized by Yahoo Finance.\n",
        "        The output will be a list of dictionaries, each containing the current price and currency.\n",
        "        \"\"\"\n",
        "    args_schema: Type[BaseModel] = MultiStockPriceInput\n",
        "\n",
        "    def _run(self, tickers: List[str]):\n",
        "        prices = []\n",
        "        for ticker in tickers:\n",
        "            price_response = get_current_stock_price(ticker)\n",
        "            prices.append({'ticker': ticker, 'price': price_response['price'], 'currency': price_response['currency']})\n",
        "        return prices\n",
        "\n",
        "    def _arun(self, tickers: List[str]):\n",
        "        raise NotImplementedError('get_multi_stock_prices does not support async')\n"
      ],
      "metadata": {
        "id": "jrpvLzyBdP3J"
      },
      "execution_count": 12,
      "outputs": []
    },
    {
      "cell_type": "code",
      "source": [
        "class CalculateInvestmentReturnInput(BaseModel):\n",
        "    \"\"\"Inputs for calculate_investment_return\"\"\"\n",
        "\n",
        "    tickers: List[str] = Field(description=\"List of stock ticker symbols\")\n",
        "    days: int = Field(description=\"Number of days to calculate investment return\")\n",
        "    initial_investment: float = Field(description=\"Initial investment amount\")\n",
        "\n",
        "class CalculateInvestmentReturnTool(BaseTool):\n",
        "    name = 'calculate_investment_return'\n",
        "    description = \"\"\"\n",
        "        Useful when you want to calculate the investment return for multiple stocks.\n",
        "        Enter a list of stock ticker symbols recognized by Yahoo Finance.\n",
        "        Enter the number of days and the initial investment amount.\n",
        "        The output will be a list of dictionaries, each containing the total return on investment.\n",
        "        \"\"\"\n",
        "    args_schema: Type[BaseModel] = CalculateInvestmentReturnInput\n",
        "\n",
        "    def _run(self, tickers: List[str], days: int, initial_investment: float):\n",
        "        returns = []\n",
        "        for ticker in tickers:\n",
        "            ticker_data = yf.Ticker(ticker)\n",
        "            history = ticker_data.history(period=f'{days}d')\n",
        "            old_price = history.iloc[0]['Close']\n",
        "            current_price = history.iloc[-1]['Close']\n",
        "            percent_change = ((current_price - old_price) / old_price) * 100\n",
        "            total_return = initial_investment * (1 + percent_change / 100)\n",
        "            returns.append({'ticker': ticker, 'total_return': total_return})\n",
        "        return returns\n",
        "\n",
        "    def _arun(self, tickers: List[str]):\n",
        "        raise NotImplementedError(\"calculate_investment_return does not support async\")\n"
      ],
      "metadata": {
        "id": "cmidIL2EkOju"
      },
      "execution_count": 13,
      "outputs": []
    },
    {
      "cell_type": "code",
      "source": [
        "from typing import Type, List\n",
        "from pydantic import BaseModel, Field\n",
        "import yfinance as yf\n",
        "\n",
        "class GovernanceMetricsInput(BaseModel):\n",
        "    \"\"\"Inputs for get_governance_metrics for multiple companies\"\"\"\n",
        "\n",
        "    symbols: List[str] = Field(description=\"List of stock symbols\")\n",
        "\n",
        "class GovernanceMetricsTool(BaseTool):\n",
        "    name = 'get_governance_metrics'\n",
        "    description = \"\"\"\n",
        "        Useful when you want to get governance metrics for multiple companies.\n",
        "        Enter a list of stock symbols recognized by Yahoo Finance.\n",
        "        The output will be a list of dictionaries, each containing governance metrics.\n",
        "        \"\"\"\n",
        "    args_schema: Type[BaseModel] = GovernanceMetricsInput\n",
        "\n",
        "    def _run(self, symbols: List[str]):\n",
        "        governance_metrics_list = []\n",
        "        for symbol in symbols:\n",
        "            governance_metrics = self._get_governance_metrics(symbol)\n",
        "            governance_metrics_list.append({'symbol': symbol, 'governance_metrics': governance_metrics})\n",
        "        return governance_metrics_list\n",
        "\n",
        "    def _get_governance_metrics(self, symbol):\n",
        "        try:\n",
        "            # Download stock information from Yahoo Finance\n",
        "            stock_data = yf.Ticker(symbol)\n",
        "\n",
        "            # Company Information\n",
        "            company_info = stock_data.info\n",
        "\n",
        "            # Extract Governance Metrics\n",
        "            governance_metrics = {\n",
        "                'Audit Risk': company_info.get('auditRisk', ''),\n",
        "                'Board Risk': company_info.get('boardRisk', ''),\n",
        "                'Compensation Risk': company_info.get('compensationRisk', ''),\n",
        "                'Shareholder Rights Risk': company_info.get('shareHolderRightsRisk', ''),\n",
        "                'Overall Risk': company_info.get('overallRisk', '')\n",
        "            }\n",
        "\n",
        "            return governance_metrics\n",
        "\n",
        "        except Exception as e:\n",
        "            return {'Do Not have information': str(e)}\n",
        "\n",
        "    def _arun(self, symbols: List[str]):\n",
        "        raise NotImplementedError('get_governance_metrics does not support async')"
      ],
      "metadata": {
        "id": "RSEC7WRU8FRM"
      },
      "execution_count": 14,
      "outputs": []
    },
    {
      "cell_type": "code",
      "source": [
        "class FinancialRatiosInput(BaseModel):\n",
        "    \"\"\"Inputs for get_financial_ratios for multiple companies\"\"\"\n",
        "\n",
        "    stock_symbols: List[str] = Field(description=\"List of stock symbols\")\n",
        "\n",
        "class FinancialRatiosTool(BaseTool):\n",
        "    name = 'get_financial_ratios'\n",
        "    description = \"\"\"\n",
        "        Useful when you want to get financial ratios for multiple companies.\n",
        "        Enter a list of stock symbols recognized by Yahoo Finance.\n",
        "        The output will be a list of dictionaries, each containing financial ratios.\n",
        "        \"\"\"\n",
        "    args_schema: Type[BaseModel] = FinancialRatiosInput\n",
        "\n",
        "    def _run(self, stock_symbols: List[str]):\n",
        "        financial_ratios_list = []\n",
        "        for stock_symbol in stock_symbols:\n",
        "            try:\n",
        "                financial_ratios = self._get_financial_ratios(stock_symbol)\n",
        "                financial_ratios_list.append({'stock_symbol': stock_symbol, 'financial_ratios': financial_ratios})\n",
        "            except Exception as e:\n",
        "                financial_ratios_list.append({'stock_symbol': stock_symbol, 'error': str(e)})\n",
        "\n",
        "        return financial_ratios_list\n",
        "\n",
        "    def _get_financial_ratios(self, stock_symbol):\n",
        "        stock = yf.Ticker(stock_symbol)\n",
        "\n",
        "        financial_ratios = {\n",
        "            'Earnings Per Share (EPS)': stock.info.get('trailingEps'),\n",
        "            'EPS Growth (%)': stock.info.get('earningsGrowth'),\n",
        "            'Price-to-Earnings (P/E) Ratio (%)': stock.info.get('trailingPE'),\n",
        "            'Price/Earnings-to-Growth (PEG) Ratio (%)': stock.info.get('pegRatio'),\n",
        "            'Operating Margin (%)': stock.info.get('operatingMargins'),\n",
        "            'Return on Assets (ROA) (%)': stock.info.get('returnOnAssets'),\n",
        "            'Return on Equity (ROE) (%)': stock.info.get('returnOnEquity'),\n",
        "            'Current Ratio': stock.info.get('currentRatio'),\n",
        "            'Quick Ratio': stock.info.get('quickRatio'),\n",
        "            'Dividend Per Share ($)': stock.info.get('dividendRate'),\n",
        "            'Dividend Growth (%)': stock.info.get('dividendYield'),\n",
        "            'Dividend Cover (%)': stock.info.get('payoutRatio'),\n",
        "        }\n",
        "\n",
        "        return financial_ratios\n",
        "\n",
        "    def _arun(self, stock_symbols: List[str]):\n",
        "        raise NotImplementedError('get_financial_ratios does not support async')\n"
      ],
      "metadata": {
        "id": "uirvSilbNFad"
      },
      "execution_count": 15,
      "outputs": []
    },
    {
      "cell_type": "code",
      "source": [
        "from langchain.agents import AgentType\n",
        "from langchain.chat_models import ChatOpenAI\n",
        "from langchain.agents import initialize_agent"
      ],
      "metadata": {
        "id": "Cg0ESSmeZpPA"
      },
      "execution_count": 16,
      "outputs": []
    },
    {
      "cell_type": "code",
      "source": [
        "CurrentStockPriceTool()"
      ],
      "metadata": {
        "colab": {
          "base_uri": "https://localhost:8080/"
        },
        "id": "XBpe9spGbsXB",
        "outputId": "47333554-c936-4a3d-952f-ec93c4cb9b10"
      },
      "execution_count": 17,
      "outputs": [
        {
          "output_type": "execute_result",
          "data": {
            "text/plain": [
              "CurrentStockPriceTool()"
            ]
          },
          "metadata": {},
          "execution_count": 17
        }
      ]
    },
    {
      "cell_type": "code",
      "source": [
        "StockPercentChangeTool()"
      ],
      "metadata": {
        "colab": {
          "base_uri": "https://localhost:8080/"
        },
        "id": "xQHU8iSZbxaP",
        "outputId": "e99d7247-7ca9-4af4-cefb-aee0dd69116c"
      },
      "execution_count": 18,
      "outputs": [
        {
          "output_type": "execute_result",
          "data": {
            "text/plain": [
              "StockPercentChangeTool()"
            ]
          },
          "metadata": {},
          "execution_count": 18
        }
      ]
    },
    {
      "cell_type": "code",
      "source": [
        "VolatileScoreTool()"
      ],
      "metadata": {
        "colab": {
          "base_uri": "https://localhost:8080/"
        },
        "id": "-DSlVdtZbIbI",
        "outputId": "26ca2869-0043-4aec-b799-54d5d4ea0868"
      },
      "execution_count": 19,
      "outputs": [
        {
          "output_type": "execute_result",
          "data": {
            "text/plain": [
              "VolatileScoreTool()"
            ]
          },
          "metadata": {},
          "execution_count": 19
        }
      ]
    },
    {
      "cell_type": "code",
      "source": [
        "MultiStockPriceTool()"
      ],
      "metadata": {
        "colab": {
          "base_uri": "https://localhost:8080/"
        },
        "id": "kGCwTctPdog-",
        "outputId": "9d9d7b94-2686-49a9-fb1c-66c4e908afb8"
      },
      "execution_count": 20,
      "outputs": [
        {
          "output_type": "execute_result",
          "data": {
            "text/plain": [
              "MultiStockPriceTool()"
            ]
          },
          "metadata": {},
          "execution_count": 20
        }
      ]
    },
    {
      "cell_type": "code",
      "source": [
        "llm = ChatOpenAI(openai_api_key = 'your_api_key')\n",
        "\n",
        "\n",
        "tools = [MultiStockPriceTool(), StockPercentChangeTool(),VolatileScoreTool(),CalculateInvestmentReturnTool(),GovernanceMetricsTool()]"
      ],
      "metadata": {
        "id": "vlgdJ199aOjz",
        "colab": {
          "base_uri": "https://localhost:8080/"
        },
        "outputId": "32d46e75-9c29-4d7e-ab76-3089939f78ab"
      },
      "execution_count": 21,
      "outputs": [
        {
          "output_type": "stream",
          "name": "stderr",
          "text": [
            "/usr/local/lib/python3.10/dist-packages/langchain_core/_api/deprecation.py:117: LangChainDeprecationWarning: The class `langchain_community.chat_models.openai.ChatOpenAI` was deprecated in langchain-community 0.0.10 and will be removed in 0.2.0. An updated version of the class exists in the langchain-openai package and should be used instead. To use it run `pip install -U langchain-openai` and import as `from langchain_openai import ChatOpenAI`.\n",
            "  warn_deprecated(\n"
          ]
        }
      ]
    },
    {
      "cell_type": "code",
      "source": [
        "agent = initialize_agent(tools, llm, agent = AgentType.OPENAI_FUNCTIONS, verbose = True)"
      ],
      "metadata": {
        "id": "5Qlxxqz9a-f-",
        "colab": {
          "base_uri": "https://localhost:8080/"
        },
        "outputId": "7938e989-531b-45d9-d104-f5e6ccf5acb8"
      },
      "execution_count": 23,
      "outputs": [
        {
          "output_type": "stream",
          "name": "stderr",
          "text": [
            "/usr/local/lib/python3.10/dist-packages/langchain_core/_api/deprecation.py:117: LangChainDeprecationWarning: The function `initialize_agent` was deprecated in LangChain 0.1.0 and will be removed in 0.2.0. Use Use new agent constructor methods like create_react_agent, create_json_agent, create_structured_chat_agent, etc. instead.\n",
            "  warn_deprecated(\n"
          ]
        }
      ]
    },
    {
      "cell_type": "code",
      "source": [
        "agent.run(\"waht is the current price of apple,microsoft,google and nvidia stock ? how much money will return If I invest 1000 in each company one year before? which company gives highest return?\")"
      ],
      "metadata": {
        "colab": {
          "base_uri": "https://localhost:8080/",
          "height": 639
        },
        "id": "0EFAHySueKix",
        "outputId": "9a4b104a-ff08-45a3-9fa6-9e9c2a10ae0b"
      },
      "execution_count": 24,
      "outputs": [
        {
          "output_type": "stream",
          "name": "stderr",
          "text": [
            "/usr/local/lib/python3.10/dist-packages/langchain_core/_api/deprecation.py:117: LangChainDeprecationWarning: The function `run` was deprecated in LangChain 0.1.0 and will be removed in 0.2.0. Use invoke instead.\n",
            "  warn_deprecated(\n"
          ]
        },
        {
          "output_type": "stream",
          "name": "stdout",
          "text": [
            "\n",
            "\n",
            "\u001b[1m> Entering new AgentExecutor chain...\u001b[0m\n",
            "\u001b[32;1m\u001b[1;3m\n",
            "Invoking: `get_multi_stock_prices` with `{'tickers': ['AAPL', 'MSFT', 'GOOGL', 'NVDA']}`\n",
            "\n",
            "\n",
            "\u001b[0m\u001b[36;1m\u001b[1;3m[{'ticker': 'AAPL', 'price': 194.5, 'currency': 'USD'}, {'ticker': 'MSFT', 'price': 402.55999755859375, 'currency': 'USD'}, {'ticker': 'GOOGL', 'price': 148.6999969482422, 'currency': 'USD'}, {'ticker': 'NVDA', 'price': 613.6199951171875, 'currency': 'USD'}]\u001b[0m\u001b[32;1m\u001b[1;3m\n",
            "Invoking: `calculate_investment_return` with `{'tickers': ['AAPL', 'MSFT', 'GOOGL', 'NVDA'], 'days': 365, 'initial_investment': 1000}`\n",
            "\n",
            "\n",
            "\u001b[0m\u001b[36;1m\u001b[1;3m[{'ticker': 'AAPL', 'total_return': 1162.7491950357023}, {'ticker': 'MSFT', 'total_return': 1421.9863243989855}, {'ticker': 'GOOGL', 'total_return': 1251.2622141577017}, {'ticker': 'NVDA', 'total_return': 3423.4302644917457}]\u001b[0m\u001b[32;1m\u001b[1;3mThe current prices of the stocks are as follows:\n",
            "\n",
            "- Apple (AAPL): $194.50 USD\n",
            "- Microsoft (MSFT): $402.56 USD\n",
            "- Google (GOOGL): $148.70 USD\n",
            "- NVIDIA (NVDA): $613.62 USD\n",
            "\n",
            "If you had invested $1000 in each company one year ago, the total returns would be:\n",
            "\n",
            "- Apple (AAPL): $1162.75 USD\n",
            "- Microsoft (MSFT): $1421.99 USD\n",
            "- Google (GOOGL): $1251.26 USD\n",
            "- NVIDIA (NVDA): $3423.43 USD\n",
            "\n",
            "The company with the highest return on investment is NVIDIA (NVDA), with a total return of $3423.43 USD.\u001b[0m\n",
            "\n",
            "\u001b[1m> Finished chain.\u001b[0m\n"
          ]
        },
        {
          "output_type": "execute_result",
          "data": {
            "text/plain": [
              "'The current prices of the stocks are as follows:\\n\\n- Apple (AAPL): $194.50 USD\\n- Microsoft (MSFT): $402.56 USD\\n- Google (GOOGL): $148.70 USD\\n- NVIDIA (NVDA): $613.62 USD\\n\\nIf you had invested $1000 in each company one year ago, the total returns would be:\\n\\n- Apple (AAPL): $1162.75 USD\\n- Microsoft (MSFT): $1421.99 USD\\n- Google (GOOGL): $1251.26 USD\\n- NVIDIA (NVDA): $3423.43 USD\\n\\nThe company with the highest return on investment is NVIDIA (NVDA), with a total return of $3423.43 USD.'"
            ],
            "application/vnd.google.colaboratory.intrinsic+json": {
              "type": "string"
            }
          },
          "metadata": {},
          "execution_count": 24
        }
      ]
    },
    {
      "cell_type": "code",
      "source": [
        "agent.run(\"what the current price of apple,microsoft and nvidia ? and Compensation Risk?\")"
      ],
      "metadata": {
        "colab": {
          "base_uri": "https://localhost:8080/",
          "height": 530
        },
        "id": "4dM9Sc23ebGX",
        "outputId": "bd6b4af5-8c31-4f63-bfff-82cc58ee2d86"
      },
      "execution_count": null,
      "outputs": [
        {
          "output_type": "stream",
          "name": "stdout",
          "text": [
            "\n",
            "\n",
            "\u001b[1m> Entering new AgentExecutor chain...\u001b[0m\n",
            "\u001b[32;1m\u001b[1;3m\n",
            "Invoking: `get_multi_stock_prices` with `{'tickers': ['AAPL', 'MSFT', 'NVDA']}`\n",
            "\n",
            "\n",
            "\u001b[0m\u001b[36;1m\u001b[1;3m[{'ticker': 'AAPL', 'price': 193.88999938964844, 'currency': 'USD'}, {'ticker': 'MSFT', 'price': 396.510009765625, 'currency': 'USD'}, {'ticker': 'NVDA', 'price': 596.5399780273438, 'currency': 'USD'}]\u001b[0m\u001b[32;1m\u001b[1;3m\n",
            "Invoking: `get_governance_metrics` with `{'symbols': ['AAPL', 'MSFT', 'NVDA']}`\n",
            "\n",
            "\n",
            "\u001b[0m\u001b[33;1m\u001b[1;3m[{'symbol': 'AAPL', 'governance_metrics': {'Audit Risk': 4, 'Board Risk': 1, 'Compensation Risk': 6, 'Shareholder Rights Risk': 1, 'Overall Risk': 1}}, {'symbol': 'MSFT', 'governance_metrics': {'Audit Risk': 6, 'Board Risk': 4, 'Compensation Risk': 2, 'Shareholder Rights Risk': 2, 'Overall Risk': 2}}, {'symbol': 'NVDA', 'governance_metrics': {'Audit Risk': 7, 'Board Risk': 10, 'Compensation Risk': 1, 'Shareholder Rights Risk': 8, 'Overall Risk': 8}}]\u001b[0m\u001b[32;1m\u001b[1;3mThe current prices of Apple, Microsoft, and Nvidia are as follows:\n",
            "- Apple (AAPL): $193.89 USD\n",
            "- Microsoft (MSFT): $396.51 USD\n",
            "- Nvidia (NVDA): $596.54 USD\n",
            "\n",
            "Regarding compensation risk, here are the ratings for each company:\n",
            "- Apple (AAPL): 6 out of 10\n",
            "- Microsoft (MSFT): 2 out of 10\n",
            "- Nvidia (NVDA): 1 out of 10\n",
            "\n",
            "A higher compensation risk rating indicates a higher level of risk associated with executive compensation practices.\u001b[0m\n",
            "\n",
            "\u001b[1m> Finished chain.\u001b[0m\n"
          ]
        },
        {
          "output_type": "execute_result",
          "data": {
            "text/plain": [
              "'The current prices of Apple, Microsoft, and Nvidia are as follows:\\n- Apple (AAPL): $193.89 USD\\n- Microsoft (MSFT): $396.51 USD\\n- Nvidia (NVDA): $596.54 USD\\n\\nRegarding compensation risk, here are the ratings for each company:\\n- Apple (AAPL): 6 out of 10\\n- Microsoft (MSFT): 2 out of 10\\n- Nvidia (NVDA): 1 out of 10\\n\\nA higher compensation risk rating indicates a higher level of risk associated with executive compensation practices.'"
            ],
            "application/vnd.google.colaboratory.intrinsic+json": {
              "type": "string"
            }
          },
          "metadata": {},
          "execution_count": 43
        }
      ]
    },
    {
      "cell_type": "code",
      "source": [
        "agent.run(\"how apple,microsoft and nvidia performed over past one year? and how much return I get if I invested 1000 usd in each three companies ?\")"
      ],
      "metadata": {
        "colab": {
          "base_uri": "https://localhost:8080/",
          "height": 472
        },
        "id": "OTXW3ZT6kwOa",
        "outputId": "940c247c-15c1-443f-c689-c5d35480448f"
      },
      "execution_count": null,
      "outputs": [
        {
          "output_type": "stream",
          "name": "stdout",
          "text": [
            "\n",
            "\n",
            "\u001b[1m> Entering new AgentExecutor chain...\u001b[0m\n",
            "\u001b[32;1m\u001b[1;3m\n",
            "Invoking: `get_stock_performance` with `{'ticker': 'AAPL', 'days': 365}`\n",
            "\n",
            "\n",
            "\u001b[0m\u001b[33;1m\u001b[1;3m{'Percent_change': 36.511017429352385}\u001b[0m\u001b[32;1m\u001b[1;3m\n",
            "Invoking: `get_stock_performance` with `{'ticker': 'MSFT', 'days': 365}`\n",
            "\n",
            "\n",
            "\u001b[0m\u001b[33;1m\u001b[1;3m{'Percent_change': 65.80302903960262}\u001b[0m\u001b[32;1m\u001b[1;3m\n",
            "Invoking: `get_stock_performance` with `{'ticker': 'NVDA', 'days': 365}`\n",
            "\n",
            "\n",
            "\u001b[0m\u001b[33;1m\u001b[1;3m{'Percent_change': 210.09948025673947}\u001b[0m\u001b[32;1m\u001b[1;3mOver the past one year, Apple (AAPL) has performed with a 36.51% increase, Microsoft (MSFT) has performed with a 65.80% increase, and NVIDIA (NVDA) has performed with a 210.10% increase.\n",
            "\n",
            "If you had invested $1000 in each of these three companies, your total return would be as follows:\n",
            "- Apple: $365.11\n",
            "- Microsoft: $658.03\n",
            "- NVIDIA: $2100.99\u001b[0m\n",
            "\n",
            "\u001b[1m> Finished chain.\u001b[0m\n"
          ]
        },
        {
          "output_type": "execute_result",
          "data": {
            "text/plain": [
              "'Over the past one year, Apple (AAPL) has performed with a 36.51% increase, Microsoft (MSFT) has performed with a 65.80% increase, and NVIDIA (NVDA) has performed with a 210.10% increase.\\n\\nIf you had invested $1000 in each of these three companies, your total return would be as follows:\\n- Apple: $365.11\\n- Microsoft: $658.03\\n- NVIDIA: $2100.99'"
            ],
            "application/vnd.google.colaboratory.intrinsic+json": {
              "type": "string"
            }
          },
          "metadata": {},
          "execution_count": 53
        }
      ]
    },
    {
      "cell_type": "code",
      "source": [
        "agent.run(\"explain about finance bonds investment ?\")"
      ],
      "metadata": {
        "colab": {
          "base_uri": "https://localhost:8080/",
          "height": 628
        },
        "id": "n4Rd6-t_l2ii",
        "outputId": "d144a69b-d035-4444-85ef-51f9a50db1f4"
      },
      "execution_count": null,
      "outputs": [
        {
          "output_type": "stream",
          "name": "stdout",
          "text": [
            "\n",
            "\n",
            "\u001b[1m> Entering new AgentExecutor chain...\u001b[0m\n",
            "\u001b[32;1m\u001b[1;3mBonds are a type of investment where an investor lends money to a government or a corporation for a fixed period of time, typically ranging from a few months to several years. In return, the issuer of the bond promises to pay the investor a specified amount of interest at regular intervals, and to repay the principal amount (the initial investment) when the bond matures.\n",
            "\n",
            "Bonds are considered to be a relatively safer investment compared to stocks because they offer a fixed income stream and are generally less volatile. They are often used by investors who are looking for a more stable and predictable return on their investment.\n",
            "\n",
            "Here are some key points to understand about bond investments:\n",
            "\n",
            "1. Types of Bonds: There are various types of bonds available in the market, including government bonds, corporate bonds, municipal bonds, and international bonds. Each type of bond carries different levels of risk and return.\n",
            "\n",
            "2. Coupon Rate: The coupon rate is the interest rate that the bond issuer agrees to pay the investor. This rate is usually fixed for the life of the bond.\n",
            "\n",
            "3. Maturity Date: The maturity date is the date on which the bond expires and the issuer repays the principal amount to the investor. Bonds can have short-term maturities (less than one year), medium-term maturities (one to ten years), or long-term maturities (more than ten years).\n",
            "\n",
            "4. Bond Ratings: Bonds are assigned ratings by credit rating agencies, such as Standard & Poor's, Moody's, and Fitch. These ratings indicate the creditworthiness of the issuer and the likelihood of default. Bonds with higher ratings are considered safer investments.\n",
            "\n",
            "5. Yield: The yield is the total return an investor can expect to receive from a bond, taking into account the coupon payments and the price of the bond. Yield is influenced by factors such as interest rates, bond prices, and the creditworthiness of the issuer.\n",
            "\n",
            "6. Risks: While bonds are generally considered safer than stocks, they are not risk-free. There are risks associated with bond investments, including interest rate risk, credit risk, inflation risk, and liquidity risk. It's important for investors to carefully evaluate these risks before investing in bonds.\n",
            "\n",
            "7. Diversification: Bond investments can be an important part of a diversified investment portfolio. By including bonds alongside stocks and other assets, investors can reduce their overall portfolio risk and potentially achieve more stable returns.\n",
            "\n",
            "8. Bond Funds: Instead of investing in individual bonds, investors can also consider bond mutual funds or exchange-traded funds (ETFs). These funds pool money from multiple investors to invest in a diversified portfolio of bonds, providing access to a range of bond investments with varying maturities and credit qualities.\n",
            "\n",
            "It's important for investors to carefully consider their investment goals, risk tolerance, and time horizon before investing in bonds. Consulting with a financial advisor or conducting thorough research can help investors make informed decisions about bond investments.\u001b[0m\n",
            "\n",
            "\u001b[1m> Finished chain.\u001b[0m\n"
          ]
        },
        {
          "output_type": "execute_result",
          "data": {
            "text/plain": [
              "\"Bonds are a type of investment where an investor lends money to a government or a corporation for a fixed period of time, typically ranging from a few months to several years. In return, the issuer of the bond promises to pay the investor a specified amount of interest at regular intervals, and to repay the principal amount (the initial investment) when the bond matures.\\n\\nBonds are considered to be a relatively safer investment compared to stocks because they offer a fixed income stream and are generally less volatile. They are often used by investors who are looking for a more stable and predictable return on their investment.\\n\\nHere are some key points to understand about bond investments:\\n\\n1. Types of Bonds: There are various types of bonds available in the market, including government bonds, corporate bonds, municipal bonds, and international bonds. Each type of bond carries different levels of risk and return.\\n\\n2. Coupon Rate: The coupon rate is the interest rate that the bond issuer agrees to pay the investor. This rate is usually fixed for the life of the bond.\\n\\n3. Maturity Date: The maturity date is the date on which the bond expires and the issuer repays the principal amount to the investor. Bonds can have short-term maturities (less than one year), medium-term maturities (one to ten years), or long-term maturities (more than ten years).\\n\\n4. Bond Ratings: Bonds are assigned ratings by credit rating agencies, such as Standard & Poor's, Moody's, and Fitch. These ratings indicate the creditworthiness of the issuer and the likelihood of default. Bonds with higher ratings are considered safer investments.\\n\\n5. Yield: The yield is the total return an investor can expect to receive from a bond, taking into account the coupon payments and the price of the bond. Yield is influenced by factors such as interest rates, bond prices, and the creditworthiness of the issuer.\\n\\n6. Risks: While bonds are generally considered safer than stocks, they are not risk-free. There are risks associated with bond investments, including interest rate risk, credit risk, inflation risk, and liquidity risk. It's important for investors to carefully evaluate these risks before investing in bonds.\\n\\n7. Diversification: Bond investments can be an important part of a diversified investment portfolio. By including bonds alongside stocks and other assets, investors can reduce their overall portfolio risk and potentially achieve more stable returns.\\n\\n8. Bond Funds: Instead of investing in individual bonds, investors can also consider bond mutual funds or exchange-traded funds (ETFs). These funds pool money from multiple investors to invest in a diversified portfolio of bonds, providing access to a range of bond investments with varying maturities and credit qualities.\\n\\nIt's important for investors to carefully consider their investment goals, risk tolerance, and time horizon before investing in bonds. Consulting with a financial advisor or conducting thorough research can help investors make informed decisions about bond investments.\""
            ],
            "application/vnd.google.colaboratory.intrinsic+json": {
              "type": "string"
            }
          },
          "metadata": {},
          "execution_count": 54
        }
      ]
    },
    {
      "cell_type": "code",
      "source": [
        "import yfinance as yf\n",
        "\n",
        "def get_financial_ratios(stock_ticker):\n",
        "    # Download financial data for the given stock ticker\n",
        "    stock = yf.Ticker(stock_ticker)\n",
        "\n",
        "    # Get key financial data\n",
        "    financial_data = stock.info\n",
        "\n",
        "    # Calculate financial ratios\n",
        "    pe_ratio = financial_data['trailingPE'] if 'trailingPE' in financial_data else None\n",
        "    pb_ratio = financial_data['priceToBook'] if 'priceToBook' in financial_data else None\n",
        "    debt_to_equity_ratio = financial_data['debtToEquity'] if 'debtToEquity' in financial_data else None\n",
        "    free_cash_flow = financial_data['freeCashflow'] if 'freeCashflow' in financial_data else None\n",
        "    peg_ratio = financial_data['pegRatio'] if 'pegRatio' in financial_data else None\n",
        "\n",
        "    return {\n",
        "        'P/E Ratio': pe_ratio,\n",
        "        'P/B Ratio': pb_ratio,\n",
        "        'Debt-to-Equity Ratio': debt_to_equity_ratio,\n",
        "        'Free Cash Flow': free_cash_flow,\n",
        "        'PEG Ratio': peg_ratio\n",
        "    }\n",
        "\n",
        "# Example usage:\n",
        "ticker = \"AAPL\"  # Replace with the desired stock ticker\n",
        "ratios = get_financial_ratios(ticker)\n",
        "print(\"Financial Ratios for\", ticker)\n",
        "for ratio_name, ratio_value in ratios.items():\n",
        "    print(f\"{ratio_name}: {ratio_value}\")\n"
      ],
      "metadata": {
        "colab": {
          "base_uri": "https://localhost:8080/"
        },
        "id": "wK1DxwiVY8mf",
        "outputId": "2a57143b-4936-40ce-ec1f-d198c5e8fda8"
      },
      "execution_count": null,
      "outputs": [
        {
          "output_type": "stream",
          "name": "stdout",
          "text": [
            "Financial Ratios for AAPL\n",
            "P/E Ratio: 31.62969\n",
            "P/B Ratio: 48.50888\n",
            "Debt-to-Equity Ratio: 199.418\n",
            "Free Cash Flow: 82179997696\n",
            "PEG Ratio: 4.73\n"
          ]
        }
      ]
    },
    {
      "cell_type": "code",
      "source": [
        "# Download financial data for the given stock ticker\n",
        "stock = yf.Ticker(ticker)\n",
        "\n",
        "# Get key financial data\n",
        "financial_data = stock.info"
      ],
      "metadata": {
        "id": "6RGWWoK3s97P"
      },
      "execution_count": null,
      "outputs": []
    },
    {
      "cell_type": "code",
      "source": [
        "financial_data"
      ],
      "metadata": {
        "colab": {
          "base_uri": "https://localhost:8080/"
        },
        "id": "NJxuOCEus_In",
        "outputId": "4e4c5d52-5331-4fda-c9d4-bff72924668d"
      },
      "execution_count": null,
      "outputs": [
        {
          "output_type": "execute_result",
          "data": {
            "text/plain": [
              "{'address1': 'One Apple Park Way',\n",
              " 'city': 'Cupertino',\n",
              " 'state': 'CA',\n",
              " 'zip': '95014',\n",
              " 'country': 'United States',\n",
              " 'phone': '408 996 1010',\n",
              " 'website': 'https://www.apple.com',\n",
              " 'industry': 'Consumer Electronics',\n",
              " 'industryKey': 'consumer-electronics',\n",
              " 'industryDisp': 'Consumer Electronics',\n",
              " 'sector': 'Technology',\n",
              " 'sectorKey': 'technology',\n",
              " 'sectorDisp': 'Technology',\n",
              " 'longBusinessSummary': 'Apple Inc. designs, manufactures, and markets smartphones, personal computers, tablets, wearables, and accessories worldwide. The company offers iPhone, a line of smartphones; Mac, a line of personal computers; iPad, a line of multi-purpose tablets; and wearables, home, and accessories comprising AirPods, Apple TV, Apple Watch, Beats products, and HomePod. It also provides AppleCare support and cloud services; and operates various platforms, including the App Store that allow customers to discover and download applications and digital content, such as books, music, video, games, and podcasts. In addition, the company offers various services, such as Apple Arcade, a game subscription service; Apple Fitness+, a personalized fitness service; Apple Music, which offers users a curated listening experience with on-demand radio stations; Apple News+, a subscription news and magazine service; Apple TV+, which offers exclusive original content; Apple Card, a co-branded credit card; and Apple Pay, a cashless payment service, as well as licenses its intellectual property. The company serves consumers, and small and mid-sized businesses; and the education, enterprise, and government markets. It distributes third-party applications for its products through the App Store. The company also sells its products through its retail and online stores, and direct sales force; and third-party cellular network carriers, wholesalers, retailers, and resellers. Apple Inc. was founded in 1976 and is headquartered in Cupertino, California.',\n",
              " 'fullTimeEmployees': 161000,\n",
              " 'companyOfficers': [{'maxAge': 1,\n",
              "   'name': 'Mr. Timothy D. Cook',\n",
              "   'age': 62,\n",
              "   'title': 'CEO & Director',\n",
              "   'yearBorn': 1961,\n",
              "   'fiscalYear': 2023,\n",
              "   'totalPay': 16239562,\n",
              "   'exercisedValue': 0,\n",
              "   'unexercisedValue': 0},\n",
              "  {'maxAge': 1,\n",
              "   'name': 'Mr. Luca  Maestri',\n",
              "   'age': 60,\n",
              "   'title': 'CFO & Senior VP',\n",
              "   'yearBorn': 1963,\n",
              "   'fiscalYear': 2023,\n",
              "   'totalPay': 4612242,\n",
              "   'exercisedValue': 0,\n",
              "   'unexercisedValue': 0},\n",
              "  {'maxAge': 1,\n",
              "   'name': 'Mr. Jeffrey E. Williams',\n",
              "   'age': 59,\n",
              "   'title': 'Chief Operating Officer',\n",
              "   'yearBorn': 1964,\n",
              "   'fiscalYear': 2023,\n",
              "   'totalPay': 4637585,\n",
              "   'exercisedValue': 0,\n",
              "   'unexercisedValue': 0},\n",
              "  {'maxAge': 1,\n",
              "   'name': 'Ms. Katherine L. Adams',\n",
              "   'age': 59,\n",
              "   'title': 'Senior VP, General Counsel & Secretary',\n",
              "   'yearBorn': 1964,\n",
              "   'fiscalYear': 2023,\n",
              "   'totalPay': 4618064,\n",
              "   'exercisedValue': 0,\n",
              "   'unexercisedValue': 0},\n",
              "  {'maxAge': 1,\n",
              "   'name': \"Ms. Deirdre  O'Brien\",\n",
              "   'age': 56,\n",
              "   'title': 'Senior Vice President of Retail',\n",
              "   'yearBorn': 1967,\n",
              "   'fiscalYear': 2023,\n",
              "   'totalPay': 4613369,\n",
              "   'exercisedValue': 0,\n",
              "   'unexercisedValue': 0},\n",
              "  {'maxAge': 1,\n",
              "   'name': 'Mr. Chris  Kondo',\n",
              "   'title': 'Senior Director of Corporate Accounting',\n",
              "   'fiscalYear': 2023,\n",
              "   'exercisedValue': 0,\n",
              "   'unexercisedValue': 0},\n",
              "  {'maxAge': 1,\n",
              "   'name': 'Mr. James  Wilson',\n",
              "   'title': 'Chief Technology Officer',\n",
              "   'fiscalYear': 2023,\n",
              "   'exercisedValue': 0,\n",
              "   'unexercisedValue': 0},\n",
              "  {'maxAge': 1,\n",
              "   'name': 'Suhasini  Chandramouli',\n",
              "   'title': 'Director of Investor Relations',\n",
              "   'fiscalYear': 2023,\n",
              "   'exercisedValue': 0,\n",
              "   'unexercisedValue': 0},\n",
              "  {'maxAge': 1,\n",
              "   'name': 'Mr. Greg  Joswiak',\n",
              "   'title': 'Senior Vice President of Worldwide Marketing',\n",
              "   'fiscalYear': 2023,\n",
              "   'exercisedValue': 0,\n",
              "   'unexercisedValue': 0},\n",
              "  {'maxAge': 1,\n",
              "   'name': 'Mr. Adrian  Perica',\n",
              "   'age': 49,\n",
              "   'title': 'Head of Corporate Development',\n",
              "   'yearBorn': 1974,\n",
              "   'fiscalYear': 2023,\n",
              "   'exercisedValue': 0,\n",
              "   'unexercisedValue': 0}],\n",
              " 'auditRisk': 4,\n",
              " 'boardRisk': 1,\n",
              " 'compensationRisk': 6,\n",
              " 'shareHolderRightsRisk': 1,\n",
              " 'overallRisk': 1,\n",
              " 'governanceEpochDate': 1704067200,\n",
              " 'compensationAsOfEpochDate': 1703980800,\n",
              " 'maxAge': 86400,\n",
              " 'priceHint': 2,\n",
              " 'previousClose': 191.56,\n",
              " 'open': 192.3,\n",
              " 'dayLow': 192.26,\n",
              " 'dayHigh': 195.33,\n",
              " 'regularMarketPreviousClose': 191.56,\n",
              " 'regularMarketOpen': 192.3,\n",
              " 'regularMarketDayLow': 192.26,\n",
              " 'regularMarketDayHigh': 195.33,\n",
              " 'dividendRate': 0.96,\n",
              " 'dividendYield': 0.005,\n",
              " 'exDividendDate': 1699574400,\n",
              " 'payoutRatio': 0.1533,\n",
              " 'fiveYearAvgDividendYield': 0.8,\n",
              " 'beta': 1.29,\n",
              " 'trailingPE': 31.62969,\n",
              " 'forwardPE': 27.004179,\n",
              " 'volume': 55803260,\n",
              " 'regularMarketVolume': 55803260,\n",
              " 'averageVolume': 54360758,\n",
              " 'averageVolume10days': 56032280,\n",
              " 'averageDailyVolume10Day': 56032280,\n",
              " 'bid': 193.85,\n",
              " 'ask': 193.92,\n",
              " 'bidSize': 900,\n",
              " 'askSize': 1800,\n",
              " 'marketCap': 2997907881984,\n",
              " 'fiftyTwoWeekLow': 138.81,\n",
              " 'fiftyTwoWeekHigh': 199.62,\n",
              " 'priceToSalesTrailing12Months': 7.821615,\n",
              " 'fiftyDayAverage': 189.802,\n",
              " 'twoHundredDayAverage': 181.15395,\n",
              " 'trailingAnnualDividendRate': 0.94,\n",
              " 'trailingAnnualDividendYield': 0.0049070786,\n",
              " 'currency': 'USD',\n",
              " 'enterpriseValue': 3077897977856,\n",
              " 'profitMargins': 0.25305998,\n",
              " 'floatShares': 15535332918,\n",
              " 'sharesOutstanding': 15461900288,\n",
              " 'sharesShort': 108220157,\n",
              " 'sharesShortPriorMonth': 110653413,\n",
              " 'sharesShortPreviousMonthDate': 1701302400,\n",
              " 'dateShortInterest': 1703808000,\n",
              " 'sharesPercentSharesOut': 0.0069999998,\n",
              " 'heldPercentInsiders': 0.00072999997,\n",
              " 'heldPercentInstitutions': 0.61829,\n",
              " 'shortRatio': 2.06,\n",
              " 'shortPercentOfFloat': 0.0069999998,\n",
              " 'impliedSharesOutstanding': 15552799744,\n",
              " 'bookValue': 3.997,\n",
              " 'priceToBook': 48.50888,\n",
              " 'lastFiscalYearEnd': 1696032000,\n",
              " 'nextFiscalYearEnd': 1727654400,\n",
              " 'mostRecentQuarter': 1696032000,\n",
              " 'earningsQuarterlyGrowth': 0.108,\n",
              " 'netIncomeToCommon': 96995000320,\n",
              " 'trailingEps': 6.13,\n",
              " 'forwardEps': 7.18,\n",
              " 'pegRatio': 4.73,\n",
              " 'lastSplitFactor': '4:1',\n",
              " 'lastSplitDate': 1598832000,\n",
              " 'enterpriseToRevenue': 8.03,\n",
              " 'enterpriseToEbitda': 24.463,\n",
              " '52WeekChange': 0.34399772,\n",
              " 'SandP52WeekChange': 0.20484698,\n",
              " 'lastDividendValue': 0.24,\n",
              " 'lastDividendDate': 1699574400,\n",
              " 'exchange': 'NMS',\n",
              " 'quoteType': 'EQUITY',\n",
              " 'symbol': 'AAPL',\n",
              " 'underlyingSymbol': 'AAPL',\n",
              " 'shortName': 'Apple Inc.',\n",
              " 'longName': 'Apple Inc.',\n",
              " 'firstTradeDateEpochUtc': 345479400,\n",
              " 'timeZoneFullName': 'America/New_York',\n",
              " 'timeZoneShortName': 'EST',\n",
              " 'uuid': '8b10e4ae-9eeb-3684-921a-9ab27e4d87aa',\n",
              " 'messageBoardId': 'finmb_24937',\n",
              " 'gmtOffSetMilliseconds': -18000000,\n",
              " 'currentPrice': 193.89,\n",
              " 'targetHighPrice': 250.0,\n",
              " 'targetLowPrice': 159.0,\n",
              " 'targetMeanPrice': 200.0,\n",
              " 'targetMedianPrice': 200.0,\n",
              " 'recommendationMean': 2.1,\n",
              " 'recommendationKey': 'buy',\n",
              " 'numberOfAnalystOpinions': 39,\n",
              " 'totalCash': 61554999296,\n",
              " 'totalCashPerShare': 3.958,\n",
              " 'ebitda': 125820002304,\n",
              " 'totalDebt': 123930001408,\n",
              " 'quickRatio': 0.843,\n",
              " 'currentRatio': 0.988,\n",
              " 'totalRevenue': 383285002240,\n",
              " 'debtToEquity': 199.418,\n",
              " 'revenuePerShare': 24.344,\n",
              " 'returnOnAssets': 0.20256001,\n",
              " 'returnOnEquity': 1.7195,\n",
              " 'freeCashflow': 82179997696,\n",
              " 'operatingCashflow': 110543003648,\n",
              " 'earningsGrowth': 0.135,\n",
              " 'revenueGrowth': -0.007,\n",
              " 'grossMargins': 0.44131002,\n",
              " 'ebitdaMargins': 0.32827,\n",
              " 'operatingMargins': 0.30134,\n",
              " 'financialCurrency': 'USD',\n",
              " 'trailingPegRatio': 2.3365}"
            ]
          },
          "metadata": {},
          "execution_count": 34
        }
      ]
    },
    {
      "cell_type": "code",
      "source": [],
      "metadata": {
        "id": "gSqJX40qwbg3"
      },
      "execution_count": null,
      "outputs": []
    }
  ]
}